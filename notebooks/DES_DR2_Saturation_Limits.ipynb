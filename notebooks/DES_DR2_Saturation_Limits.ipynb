{
 "cells": [
  {
   "cell_type": "markdown",
   "metadata": {
    "collapsed": true
   },
   "source": [
    "# DES DR2 Paper:  Saturation Limits\n",
    "\n",
    "Created:  2021.04.20"
   ]
  },
  {
   "cell_type": "markdown",
   "metadata": {},
   "source": [
    "Calculate the bright (saturation) limit for a point source (e.g., star) in the DES DR2, assuming the centroid of the point source is centered in a pixel and taking typical values for the pixel full well and for the photometric zeropoints and seeing for an exposure observed in typical (median) and in poor conditions."
   ]
  },
  {
   "cell_type": "markdown",
   "metadata": {},
   "source": [
    "## 1. Initial Setup..."
   ]
  },
  {
   "cell_type": "code",
   "execution_count": 1,
   "metadata": {
    "collapsed": true
   },
   "outputs": [],
   "source": [
    "import numpy as np\n",
    "import pandas as pd\n",
    "import glob\n",
    "import math\n",
    "import os\n",
    "\n",
    "import matplotlib.pyplot as plt\n",
    "\n",
    "\n",
    "%matplotlib inline"
   ]
  },
  {
   "cell_type": "markdown",
   "metadata": {},
   "source": [
    "## 2. Typical Seeing (for wide survey)"
   ]
  },
  {
   "cell_type": "markdown",
   "metadata": {},
   "source": [
    "From Robert Gruendl (2021.04.22):\n",
    "\n",
    "<pre>\n",
    "select e.band,to_char(median(q.psf_fwhm),'9.99'),\n",
    "       to_char(max(q.psf_fwhm),'9.99') \n",
    "from y6a1_proctag t, y6a1_qa_summary q, y6a1_exposure e \n",
    "where t.tag='Y6A1_COADD_INPUT' and \n",
    "      t.pfw_attempt_id=q.pfw_attempt_id and \n",
    "      q.expnum=e.expnum\n",
    "group by e.band \n",
    "order by decode(e.band,'u',0,'g',1,'r',2,'i',3,'z',4,'Y',5) asc;\n",
    "\n",
    "BAND  TO_CH TO_CH\n",
    "----- ----- -----\n",
    "g      1.09  1.72\n",
    "r      0.95  1.63\n",
    "i      0.88  1.56\n",
    "z      0.84  1.50\n",
    "Y      0.89  1.72\n",
    "</pre>"
   ]
  },
  {
   "cell_type": "markdown",
   "metadata": {},
   "source": [
    "## 3. Exposure List (with relatively high Teff) "
   ]
  },
  {
   "cell_type": "markdown",
   "metadata": {},
   "source": [
    "From Robert Gruendl (2021.04.22):\n",
    "\n",
    "<pre>\n",
    "with x as (\n",
    "    select e.band,max(q.t_eff) as maxteff\n",
    "    from y6a1_proctag t, y6a1_qa_summary q, y6a1_exposure e, tmp_typical_seeing s\n",
    "    where t.tag='Y6A1_COADD_INPUT'\n",
    "        and t.pfw_attempt_id=q.pfw_attempt_id\n",
    "        and q.expnum=e.expnum and e.band=s.band\n",
    "        and abs(q.psf_fwhm-s.medval)<0.001\n",
    "        and q.t_eff between 0.9 and 1.0\n",
    "    group by e.band),\n",
    "y as (select e.band,max(q.t_eff) as maxteff\n",
    "    from y6a1_proctag t, y6a1_qa_summary q, y6a1_exposure e, tmp_typical_seeing s\n",
    "    where t.tag='Y6A1_COADD_INPUT'\n",
    "        and t.pfw_attempt_id=q.pfw_attempt_id\n",
    "        and q.expnum=e.expnum\n",
    "        and e.band=s.band\n",
    "        and abs(q.psf_fwhm-s.maxval)<0.001\n",
    "        and q.t_eff>0.3\n",
    "    group by e.band)\n",
    "select x.band,e.expnum,f.expnum\n",
    "from x, y, y6a1_exposure e, y6a1_exposure f, y6a1_qa_summary qe, y6a1_qa_summary qf\n",
    "where x.band=y.band\n",
    "    and qe.t_eff=x.maxteff\n",
    "    and qe.expnum=e.expnum\n",
    "    and e.band=x.band\n",
    "    and qf.t_eff=y.maxteff\n",
    "    and qf.expnum=f.expnum\n",
    "    and f.band=y.band\n",
    "order by decode(x.band,'u',0,'g',1,'r',2,'i',3,'z',4,'Y',5) asc;\n",
    "\n",
    "BAND\t  EXPNUM     EXPNUM\n",
    "----- ---------- ----------\n",
    "g\t  791360     799382\n",
    "r\t  791366     798969\n",
    "i\t  578292     254305\n",
    "z\t  499048     570235\n",
    "Y\t  668721     573010\n",
    "</pre>"
   ]
  },
  {
   "cell_type": "markdown",
   "metadata": {},
   "source": [
    "## 4. Pixel Saturation Limit and Photometric Zeropoint"
   ]
  },
  {
   "cell_type": "markdown",
   "metadata": {},
   "source": [
    "From Robert Gruendl (2021.04.22):\n",
    "\n",
    "<pre>\n",
    "            MEDIAN SEEING                  WORST SEEING\n",
    "BAND    EXPNUM  SATURATE   ZPT        EXPNUM  SATURATE  ZPT\n",
    "-----   ------ --------- --------     ------ --------- --------\n",
    " g      791360  179909.5  31.5924     799382  179909.5  31.5380\n",
    " r      791366  179515.4  31.7503     798969  179515.4  31.6884\n",
    " i      578292  180345.0  31.6751     254305  182071.8  31.6630\n",
    " z      499048  180552.1  31.3209     570235  181146.4  31.4067\n",
    " Y      668721  179150.8  29.5498     573010  180202.5  29.4741\n",
    "</pre>"
   ]
  },
  {
   "cell_type": "markdown",
   "metadata": {},
   "source": [
    "## 5. Input Info"
   ]
  },
  {
   "cell_type": "code",
   "execution_count": 2,
   "metadata": {},
   "outputs": [],
   "source": [
    "bandList = [ 'g', 'r', 'i', 'z', 'Y']\n",
    "\n",
    "# DECam pixel scale...\n",
    "pixScale = 0.264          # in arcsec/pixel\n",
    "\n",
    "# Use the median seeing values or the \"worst\" seeing values...\n",
    "use_med_seeing = True\n",
    "\n",
    "if use_med_seeing == True:\n",
    "\n",
    "    # Values for median seeing exposures...\n",
    "\n",
    "    # Median seeing for single-epoch exposures used in DES DR2 (in arcsec)\n",
    "    #  (from R. Gruendl's query above)...\n",
    "    seeing_dict = { \n",
    "                    'g':1.09,\n",
    "                    'r':0.95,\n",
    "                    'i':0.88,\n",
    "                    'z':0.84,\n",
    "                    'Y':0.89\n",
    "    }   \n",
    "\n",
    "    # Exposures with near-median seeing \n",
    "    #  (from R. Gruendl's query above)...\n",
    "    expnum_dict = { \n",
    "                    'g':791360,\n",
    "                    'r':791366,\n",
    "                    'i':578292,\n",
    "                    'z':499048,\n",
    "                    'Y':668721\n",
    "    }\n",
    "\n",
    "    # Exposure times from exposures in expnum_dict\n",
    "    #  (queried separately from desoper)...\n",
    "    exptime_dict = { \n",
    "                    'g':90.,\n",
    "                    'r':90.,\n",
    "                    'i':90.,\n",
    "                    'z':90.,\n",
    "                    'Y':45.\n",
    "    }\n",
    "        \n",
    "    # Pixel full-well saturation, medianed over all CCDs in exposure (in electrons) \n",
    "    #  (from R. Gruendl's query above)...\n",
    "    satcounts_dict = {\n",
    "                    'g':179909.5,\n",
    "                    'r':179515.4,\n",
    "                    'i':180345.0,\n",
    "                    'z':180552.1,\n",
    "                    'Y':179150.8,\n",
    "    }\n",
    "\n",
    "    # FGCM photometric zeropoints, medianed over all CCDs in exposure (in mags)\n",
    "    #  (from R. Gruendl's query above)...\n",
    "    zpt_dict = {\n",
    "                    'g':31.5924,\n",
    "                    'r':31.7503,\n",
    "                    'i':31.6751,\n",
    "                    'z':31.3209,\n",
    "                    'Y':29.5498 \n",
    "    }\n",
    "    \n",
    "    # Single-epoch median sky brightness (in mag/arcsec**2)\n",
    "    #  (from Table 1 of DES DR2 table)...\n",
    "    skybright_dict = {\n",
    "                    'g':22.05,\n",
    "                    'r':21.18,\n",
    "                    'i':19.92,\n",
    "                    'z':18.74,\n",
    "                    'Y':17.97 \n",
    "    }\n",
    "    \n",
    "else:\n",
    "    \n",
    "    # Values for \"worst\" seeing exposures...\n",
    "\n",
    "    # \"Worst\" seeing for single-epoch exposures used in DES DR2 (in arcsec)\n",
    "    #  (from R. Gruendl's query above)...\n",
    "    seeing_dict = { \n",
    "                    'g':1.72,\n",
    "                    'r':1.63,\n",
    "                    'i':1.56,\n",
    "                    'z':1.50,\n",
    "                    'Y':1.72\n",
    "    }   \n",
    "\n",
    "    # Exposures with near-\"worst\" seeing \n",
    "    #  (from R. Gruendl's query above)...\n",
    "    expnum_dict = { \n",
    "                    'g':799382,\n",
    "                    'r':798969,\n",
    "                    'i':254305,\n",
    "                    'z':570235,\n",
    "                    'Y':573010\n",
    "    }\n",
    "\n",
    "    # Exposure times from exposures in expnum_dict\n",
    "    #  (queried separately from desoper)...\n",
    "    exptime_dict = { \n",
    "                    'g':90.,\n",
    "                    'r':90.,\n",
    "                    'i':90.,\n",
    "                    'z':90.,\n",
    "                    'Y':45.\n",
    "    }\n",
    "\n",
    "    # Pixel full-well saturation, medianed over all CCDs in exposure (in electrons) \n",
    "    #  (from R. Gruendl's query above)...\n",
    "    satcounts_dict = {\n",
    "                    'g':179909.5,\n",
    "                    'r':179515.4,\n",
    "                    'i':182071.8,\n",
    "                    'z':181146.4,\n",
    "                    'Y':180202.5\n",
    "    }\n",
    "\n",
    "    # FGCM photometric zeropoints, medianed over all CCDs in exposure (in mags)\n",
    "    #  (from R. Gruendl's query above)...\n",
    "    zpt_dict = {\n",
    "                    'g':31.5380,\n",
    "                    'r':31.6884,\n",
    "                    'i':31.6630,\n",
    "                    'z':31.4067,\n",
    "                    'Y':29.4741\n",
    "    }\n",
    "    \n",
    "    # Single-epoch median sky brightness (in mag/arcsec**2)\n",
    "    #  (from Table 1 of DES DR2 table)...\n",
    "    skybright_dict = {\n",
    "                    'g':22.05,\n",
    "                    'r':21.18,\n",
    "                    'i':19.92,\n",
    "                    'z':18.74,\n",
    "                    'Y':17.97 \n",
    "\n",
    "    }\n"
   ]
  },
  {
   "cell_type": "markdown",
   "metadata": {},
   "source": [
    "## 6. Some Function Definitions"
   ]
  },
  {
   "cell_type": "code",
   "execution_count": 3,
   "metadata": {},
   "outputs": [],
   "source": [
    "# Calculate the fraction of light within a circular aperture\n",
    "#  assuming the light profile is a 2d Gaussian and the centroid\n",
    "#  of the Gaussian profile is at the center of the aperture...\n",
    "def gaussFracCircAper(seeing, apRadius):\n",
    "    import math\n",
    "    sigma = seeing/2.354\n",
    "    # Integral of the the Gaussian profile; see, e.g., K. Mighell 1999a):\n",
    "    fracCircAper = 1. - math.exp(-0.5*apRadius*apRadius/(sigma*sigma))\n",
    "    return fracCircAper\n",
    "\n",
    "# Roughly estimate the fraction of light within a single square\n",
    "#  pixel, assuming the light profile is a 2d Gaussian and the \n",
    "#  centroid of the Gaussian profile is at the center of the pixel.\n",
    "def gaussFracSinglePixel(seeing, pixScale):\n",
    "    import math\n",
    "    apRadius = 0.5*pixScale\n",
    "    fracCircAper = gaussFracCircAper(seeing, apRadius)\n",
    "    # The correction factor 4./pi is an approximation, \n",
    "    #  to help take into account fact that aperture is \n",
    "    #  square, not circular.  This is only a very rough\n",
    "    #  approximation, but should be good enough for our  \n",
    "    #  purposes here...\n",
    "    fracSinglePixel = (4./math.pi)*fracCircAper\n",
    "    return fracSinglePixel"
   ]
  },
  {
   "cell_type": "markdown",
   "metadata": {},
   "source": [
    "## 7. Estimates"
   ]
  },
  {
   "cell_type": "code",
   "execution_count": 4,
   "metadata": {},
   "outputs": [
    {
     "name": "stdout",
     "output_type": "stream",
     "text": [
      "g 1.09 791360 90.0 179909.5 31.5924 481.634391554 22.05 5.080720969 0.0506984242197 15.2200139728\n",
      "r 0.95 791366 90.0 179515.4 31.7503 557.028595457 21.18 13.0943921891 0.066317778294 15.6762718599\n",
      "i 0.88 578292 90.0 180345.0 31.6751 519.753581411 19.92 38.9946785218 0.0769500600753 15.7716989006\n",
      "z 0.84 499048 90.0 180552.1 31.3209 375.07445817 18.74 83.4305956643 0.0841996315063 15.5387882144\n",
      "Y 0.89 668721 45.0 179150.8 29.5498 146.79372333 17.97 66.3613694972 0.0752824385036 13.6267379698\n"
     ]
    }
   ],
   "source": [
    "# Loop over each band...\n",
    "\n",
    "for band in bandList:\n",
    "    \n",
    "    # Extract values from Python dictionaries instantiated above...\n",
    "    seeing = seeing_dict[band]\n",
    "    expnum = expnum_dict[band]\n",
    "    exptime = exptime_dict[band]\n",
    "    satcounts = satcounts_dict[band]\n",
    "    zpt = zpt_dict[band]\n",
    "    skybright = skybright_dict[band]\n",
    "    \n",
    "    # (Roughly) calculate the fraction of flux from a point source\n",
    "    #  in a pixel, assuming that the point source flux has a 2d Gaussian\n",
    "    #  profile, and that the point source is centered on the pixel...\n",
    "    fracAper1pix = gaussFracSinglePixel(seeing, pixScale)\n",
    "\n",
    "    # Counts for a 20th mag object in electrons...\n",
    "    counts20 = math.pow(10., -0.4*(20.00-zpt))\n",
    "    # Count rate for a 20th mag object in electrons/sec...\n",
    "    countrate20 = counts20/exptime\n",
    "\n",
    "    # Sky counts in electrons/arcsec**2\n",
    "    skycounts = math.pow(10., -0.4*(skybright-zpt))\n",
    "    # Sky counts in electrons/pixel\n",
    "    skycounts = skycounts*pixScale*pixScale\n",
    "    # Sky count rate in electrons/pixel/second\n",
    "    skycountrate = skycounts/exptime\n",
    "    \n",
    "    #skycountrate = 0.00\n",
    "    numer = satcounts - exptime*skycountrate\n",
    "    denom = exptime*fracAper1pix*countrate20 \n",
    "    ratio = numer/denom\n",
    "    mag_sat = -2.5*math.log10(ratio) + 20.0\n",
    "\n",
    "    print band, seeing, expnum, exptime, satcounts, zpt, \\\n",
    "             countrate20, skybright, skycountrate, fracAper1pix, \\\n",
    "             mag_sat\n",
    "        \n"
   ]
  },
  {
   "cell_type": "markdown",
   "metadata": {},
   "source": [
    "### 7.a.  Median Conditions\n",
    "<pre>\n",
    "band seeing expnum exptime satcounts zpt countrate20 skybright skycountrate fracAper1pix mag_sat\n",
    "g 1.09 791360 90.0 179909.5 31.5924 481.634391554 22.05  5.080720969  0.0506984242197 15.2200139728\n",
    "r 0.95 791366 90.0 179515.4 31.7503 557.028595457 21.18 13.0943921891 0.066317778294  15.6762718599\n",
    "i 0.88 578292 90.0 180345.0 31.6751 519.753581411 19.92 38.9946785218 0.0769500600753 15.7716989006\n",
    "z 0.84 499048 90.0 180552.1 31.3209 375.07445817  18.74 83.4305956643 0.0841996315063 15.5387882144\n",
    "Y 0.89 668721 45.0 179150.8 29.5498 146.79372333  17.97 66.3613694972 0.0752824385036 13.6267379698\n",
    "</pre>"
   ]
  },
  {
   "cell_type": "markdown",
   "metadata": {},
   "source": [
    "### 7.b.  \"Worst\" Conditions \n",
    "<pre>\n",
    "band seeing expnum exptime satcounts zpt countrate20 skybright skycountrate fracAper1pix mag_sat\n",
    "g 1.72 799382 90.0 179909.5 31.538  458.097045248 22.05  4.83242746872 0.0206084515558 14.1881060308\n",
    "r 1.63 798969 90.0 179515.4 31.6884 526.159590152 21.18 12.3687366927  0.0229258843135 14.4607146439\n",
    "i 1.56 254305 90.0 182071.8 31.663  513.993338629 19.92 38.5625144665  0.0250087060133 14.5285172818\n",
    "z 1.50 570235 90.0 181146.4 31.4067 405.917234038 18.74 90.2911832266  0.0270276078385 14.3909770386\n",
    "Y 1.72 573010 45.0 180202.5 29.4741 136.90757759  17.97 61.8921173013  0.0206084515558 12.1367231551\n",
    "</pre>"
   ]
  },
  {
   "cell_type": "markdown",
   "metadata": {},
   "source": [
    "## 8.  Some Comparison Values from DES SV tests\n",
    "\n",
    "Some earlier values, from DES Science Verification tests, as a comparison....\n",
    " \n",
    "<pre>\n",
    "# Some constants    \n",
    "counts1pixSat = 130000.      # Nominal saturation at 130000 electrons...\n",
    "pixScale     = 0.27          # in arcsec/pixel\n",
    "fracAper     = 0.93739       # appropriate for an apRadius=1.0*FWHM\n",
    "fracAper1pix = 0.07695       # appropriate for a single pixel\n",
    "apRadius     = 0.9           # in arcsec\n",
    "npix = math.pi*(apRadius/pixScale)*(apRadius/pixScale)\n",
    "\n",
    "# From Huan Lin's 11 Sep 2012 e-mail:\n",
    "nstar_u =  92.  # in e-/sec for a mag=20 star\n",
    "nstar_g = 590.\n",
    "nstar_r = 588.\n",
    "nstar_i = 566.\n",
    "nstar_z = 446.\n",
    "nstar_Y = 159.\n",
    "\n",
    "# From DES-doc##3091 (except for u, which is a guess).\n",
    "nsky_u =  2.    # in e-/sec/pixel\n",
    "nsky_g =  5.8\n",
    "nsky_r = 13.6\n",
    "nsky_i = 25.4\n",
    "nsky_z = 73.6\n",
    "nsky_Y = 73.2\n",
    "\n",
    "</pre>"
   ]
  },
  {
   "cell_type": "markdown",
   "metadata": {},
   "source": []
  },
  {
   "cell_type": "code",
   "execution_count": null,
   "metadata": {
    "collapsed": true
   },
   "outputs": [],
   "source": []
  },
  {
   "cell_type": "code",
   "execution_count": null,
   "metadata": {
    "collapsed": true
   },
   "outputs": [],
   "source": []
  },
  {
   "cell_type": "code",
   "execution_count": null,
   "metadata": {
    "collapsed": true
   },
   "outputs": [],
   "source": []
  }
 ],
 "metadata": {
  "kernelspec": {
   "display_name": "Python 2",
   "language": "python",
   "name": "python2"
  },
  "language_info": {
   "codemirror_mode": {
    "name": "ipython",
    "version": 2
   },
   "file_extension": ".py",
   "mimetype": "text/x-python",
   "name": "python",
   "nbconvert_exporter": "python",
   "pygments_lexer": "ipython2",
   "version": "2.7.13"
  }
 },
 "nbformat": 4,
 "nbformat_minor": 2
}
