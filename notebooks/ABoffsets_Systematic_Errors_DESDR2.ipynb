{
 "cells": [
  {
   "cell_type": "markdown",
   "metadata": {
    "collapsed": true
   },
   "source": [
    "# DES DR2 Paper:  Systematic Errors in AB offsets\n",
    "\n",
    "Created:  2020.12.22"
   ]
  },
  {
   "cell_type": "markdown",
   "metadata": {},
   "source": [
    "**Let us consider the \"precision\" (statistical error) in the absolute calibration to mean how well we have tied the data in the DES footprint to the \"Truth\" -- whether that Truth is a spectrum of C26202 from the HST CalSpec database or an ensemble of DA white dwarf models of a \"Golden sample\" of DA WDs scattered over the DES footprint.  We cover this in a separate Jupyter notebook.**\n",
    "\n",
    "**Let us thus consider the \"accuracy\" (systematic error) in the absolute calibration to mean how True is the Truth (how well do the C26202 or the ensemble of DA WD models reflect reality).   In this case, we are most interested in how the AB offsets differ when we use different versions of the \"Truth\".  We cover this case in this Jupyter notebook.** "
   ]
  },
  {
   "cell_type": "markdown",
   "metadata": {},
   "source": [
    "## 1. Initial Setup..."
   ]
  },
  {
   "cell_type": "code",
   "execution_count": 1,
   "metadata": {
    "collapsed": true
   },
   "outputs": [],
   "source": [
    "import numpy as np\n",
    "import pandas as pd\n",
    "import glob\n",
    "import math\n",
    "import os\n",
    "\n",
    "import matplotlib.pyplot as plt\n",
    "\n",
    "\n",
    "%matplotlib inline"
   ]
  },
  {
   "cell_type": "markdown",
   "metadata": {},
   "source": [
    "## 2. MAG_AUTO"
   ]
  },
  {
   "cell_type": "code",
   "execution_count": 2,
   "metadata": {
    "collapsed": true
   },
   "outputs": [],
   "source": [
    "# DES DR2 Offsets (Table 2 of DES DR2 paper) \n",
    "i_c26202_old=-0.0010\n",
    "gr_c26202_old=+0.0025\n",
    "ri_c26202_old=-0.0016\n",
    "iz_c26202_old=-0.0054\n",
    "zY_c26202_old=+0.0069\n",
    "\n",
    "i_c26202_new=-0.0066\n",
    "gr_c26202_new=+0.0001\n",
    "ri_c26202_new=-0.0046\n",
    "iz_c26202_new=-0.0021\n",
    "zY_c26202_new=+0.0160\n",
    "\n",
    "i_dawd=i_c26202_new  # since i_dawd does not have a value of its own...\n",
    "gr_dawd=-0.0106\n",
    "ri_dawd=-0.0125\n",
    "iz_dawd=-0.0205\n",
    "zY_dawd=+0.0328"
   ]
  },
  {
   "cell_type": "code",
   "execution_count": 3,
   "metadata": {
    "collapsed": true
   },
   "outputs": [],
   "source": [
    "r_c26202_old = i_c26202_old + ri_c26202_old\n",
    "g_c26202_old = r_c26202_old + gr_c26202_old\n",
    "i_c26202_old = r_c26202_old - ri_c26202_old\n",
    "z_c26202_old = i_c26202_old - iz_c26202_old\n",
    "Y_c26202_old = z_c26202_old - zY_c26202_old"
   ]
  },
  {
   "cell_type": "code",
   "execution_count": 4,
   "metadata": {
    "collapsed": true
   },
   "outputs": [],
   "source": [
    "r_c26202_new = i_c26202_new + ri_c26202_new\n",
    "g_c26202_new = r_c26202_new + gr_c26202_new\n",
    "i_c26202_new = r_c26202_new - ri_c26202_new\n",
    "z_c26202_new = i_c26202_new - iz_c26202_new\n",
    "Y_c26202_new = z_c26202_new - zY_c26202_new"
   ]
  },
  {
   "cell_type": "code",
   "execution_count": 5,
   "metadata": {
    "collapsed": true
   },
   "outputs": [],
   "source": [
    "r_dawd = i_dawd + ri_dawd\n",
    "g_dawd = r_dawd + gr_dawd\n",
    "i_dawd = r_dawd - ri_dawd\n",
    "z_dawd = i_dawd - iz_dawd\n",
    "Y_dawd = z_dawd - zY_dawd"
   ]
  },
  {
   "cell_type": "code",
   "execution_count": 6,
   "metadata": {
    "collapsed": true
   },
   "outputs": [],
   "source": [
    "g_array = np.array((g_c26202_old, g_dawd))\n",
    "r_array = np.array((r_c26202_old, r_dawd))\n",
    "i_array = np.array((i_c26202_old, i_c26202_new))\n",
    "z_array = np.array((z_c26202_old, z_dawd))\n",
    "Y_array = np.array((Y_c26202_old, Y_dawd))"
   ]
  },
  {
   "cell_type": "code",
   "execution_count": 7,
   "metadata": {
    "collapsed": true
   },
   "outputs": [],
   "source": [
    "g_mean = np.mean(g_array)\n",
    "r_mean = np.mean(r_array)\n",
    "i_mean = np.mean(i_array)\n",
    "z_mean = np.mean(z_array)\n",
    "Y_mean = np.mean(Y_array)"
   ]
  },
  {
   "cell_type": "code",
   "execution_count": 8,
   "metadata": {
    "collapsed": true
   },
   "outputs": [],
   "source": [
    "g_std = np.std(g_array)\n",
    "r_std = np.std(r_array)\n",
    "i_std = np.std(i_array)\n",
    "z_std = np.std(z_array)\n",
    "Y_std = np.std(Y_array)"
   ]
  },
  {
   "cell_type": "code",
   "execution_count": 9,
   "metadata": {
    "collapsed": true
   },
   "outputs": [],
   "source": [
    "g_hd = abs(g_c26202_old-g_dawd)/2.\n",
    "r_hd = abs(r_c26202_old-r_dawd)/2.\n",
    "i_hd = abs(i_c26202_old-i_dawd)/2.\n",
    "z_hd = abs(z_c26202_old-z_dawd)/2.\n",
    "Y_hd = abs(Y_c26202_old-Y_dawd)/2.\n",
    "#print g_hd, r_hd, i_hd, z_hd, Y_hd"
   ]
  },
  {
   "cell_type": "code",
   "execution_count": 10,
   "metadata": {},
   "outputs": [
    {
     "name": "stdout",
     "output_type": "stream",
     "text": [
      "AB systematic mean/std/half_diff\n",
      "--------------------------------\n",
      "g:     -0.0149      0.0148      0.0148\n",
      "r:     -0.0108      0.0083      0.0083\n",
      "i:     -0.0038      0.0028      0.0028\n",
      "z:      0.0092      0.0048      0.0048\n",
      "Y:     -0.0107      0.0082      0.0082\n"
     ]
    }
   ],
   "source": [
    "print \"AB systematic mean/std/half_diff\"\n",
    "print \"--------------------------------\"\n",
    "print \"\"\"g:  %10.4f  %10.4f  %10.4f\"\"\" % (g_mean, g_std, g_hd)\n",
    "print \"\"\"r:  %10.4f  %10.4f  %10.4f\"\"\" % (r_mean, r_std, r_hd)\n",
    "print \"\"\"i:  %10.4f  %10.4f  %10.4f\"\"\" % (i_mean, i_std, i_hd)\n",
    "print \"\"\"z:  %10.4f  %10.4f  %10.4f\"\"\" % (z_mean, z_std, z_hd)\n",
    "print \"\"\"Y:  %10.4f  %10.4f  %10.4f\"\"\" % (Y_mean, Y_std, Y_hd)\n"
   ]
  },
  {
   "cell_type": "code",
   "execution_count": 11,
   "metadata": {
    "collapsed": true
   },
   "outputs": [],
   "source": [
    "# Add 0.005 (or 0.007 for z, Y) in quadrature, \n",
    "#  based on Sect 2.3 and Fig. 4 of \n",
    "#  Bohlin, Hubeny, & Rauch 2020, AJ, 160, 21 \n",
    "#  and on Bohlin 2014, AJ, 147, 127...\n",
    "g_hdq = math.sqrt(g_hd*g_hd + 0.005*0.005)\n",
    "r_hdq = math.sqrt(r_hd*r_hd + 0.005*0.005)\n",
    "i_hdq = math.sqrt(i_hd*i_hd + 0.005*0.005)\n",
    "z_hdq = math.sqrt(z_hd*z_hd + 0.007*0.007)\n",
    "Y_hdq = math.sqrt(Y_hd*Y_hd + 0.007*0.007)"
   ]
  },
  {
   "cell_type": "code",
   "execution_count": 12,
   "metadata": {},
   "outputs": [
    {
     "name": "stdout",
     "output_type": "stream",
     "text": [
      "AB systematic mean/std/half_diff/hd+quad\n",
      "----------------------------------------\n",
      "g:     -0.0149      0.0148      0.0148     0.01562\n",
      "r:     -0.0108      0.0083      0.0083     0.00965\n",
      "i:     -0.0038      0.0028      0.0028     0.00573\n",
      "z:      0.0092      0.0048      0.0048     0.00846\n",
      "Y:     -0.0107      0.0082      0.0082     0.01078\n"
     ]
    }
   ],
   "source": [
    "print \"AB systematic mean/std/half_diff/hd+quad\"\n",
    "print \"----------------------------------------\"\n",
    "print \"\"\"g:  %10.4f  %10.4f  %10.4f  %10.5f\"\"\" % (g_mean, g_std, g_hd, g_hdq)\n",
    "print \"\"\"r:  %10.4f  %10.4f  %10.4f  %10.5f\"\"\" % (r_mean, r_std, r_hd, r_hdq)\n",
    "print \"\"\"i:  %10.4f  %10.4f  %10.4f  %10.5f\"\"\" % (i_mean, i_std, i_hd, i_hdq)\n",
    "print \"\"\"z:  %10.4f  %10.4f  %10.4f  %10.5f\"\"\" % (z_mean, z_std, z_hd, z_hdq)\n",
    "print \"\"\"Y:  %10.4f  %10.4f  %10.4f  %10.5f\"\"\" % (Y_mean, Y_std, Y_hd, Y_hdq)\n"
   ]
  },
  {
   "cell_type": "code",
   "execution_count": 13,
   "metadata": {
    "collapsed": true
   },
   "outputs": [],
   "source": [
    "#1. Bohlin private communication, 18 Jan 2021; Bohlin et al. 2019:\n",
    "#   C26202 is tied to CalSpec system at the c. 1% level in optical.\n",
    "#2. Bohlin, Hubeny, & Rauch 2020, AJ, 160, 21 (Sect 2.3 and Fig. 4) \n",
    "#   and Bohlin 2014, AJ, 147, 127:\n",
    "#   CalSpec system tied to AB system at c. 0.5% in optical;\n",
    "#   to c. 0.7% at z,Y wavelengths\n",
    "#3. Adding in quadrature:\n",
    "g_sys = math.sqrt(0.010*0.010 + 0.005*0.005)\n",
    "r_sys = math.sqrt(0.010*0.010 + 0.005*0.005)\n",
    "i_sys = math.sqrt(0.010*0.010 + 0.005*0.005)\n",
    "z_sys = math.sqrt(0.010*0.010 + 0.007*0.007)\n",
    "Y_sys = math.sqrt(0.010*0.010 + 0.007*0.007)"
   ]
  },
  {
   "cell_type": "code",
   "execution_count": 14,
   "metadata": {},
   "outputs": [
    {
     "name": "stdout",
     "output_type": "stream",
     "text": [
      "AB systematic mean/std/half_diff/hd+quad\n",
      "----------------------------------------\n",
      "g:      0.0112\n",
      "r:      0.0112\n",
      "i:      0.0112\n",
      "z:      0.0122\n",
      "Y:      0.0122\n"
     ]
    }
   ],
   "source": [
    "print \"AB systematic mean/std/half_diff/hd+quad\"\n",
    "print \"----------------------------------------\"\n",
    "print \"\"\"g:  %10.4f\"\"\" % (g_sys)\n",
    "print \"\"\"r:  %10.4f\"\"\" % (r_sys)\n",
    "print \"\"\"i:  %10.4f\"\"\" % (i_sys)\n",
    "print \"\"\"z:  %10.4f\"\"\" % (z_sys)\n",
    "print \"\"\"Y:  %10.4f\"\"\" % (Y_sys)"
   ]
  },
  {
   "cell_type": "code",
   "execution_count": 15,
   "metadata": {
    "collapsed": true
   },
   "outputs": [],
   "source": [
    "gr_array = np.array((gr_c26202_old, gr_dawd))\n",
    "ri_array = np.array((ri_c26202_old, ri_dawd))\n",
    "i_array = np.array((i_c26202_old, i_c26202_new))\n",
    "iz_array = np.array((iz_c26202_old, iz_dawd))\n",
    "zY_array = np.array((zY_c26202_old, zY_dawd))\n"
   ]
  },
  {
   "cell_type": "code",
   "execution_count": 16,
   "metadata": {
    "collapsed": true
   },
   "outputs": [],
   "source": [
    "gr_mean = np.mean(gr_array)\n",
    "ri_mean = np.mean(ri_array)\n",
    "i_mean = np.mean(i_array)\n",
    "iz_mean = np.mean(iz_array)\n",
    "zY_mean = np.mean(zY_array)\n"
   ]
  },
  {
   "cell_type": "code",
   "execution_count": 17,
   "metadata": {
    "collapsed": true
   },
   "outputs": [],
   "source": [
    "gr_std = np.std(gr_array)\n",
    "ri_std = np.std(ri_array)\n",
    "i_std = np.std(i_array)\n",
    "iz_std = np.std(iz_array)\n",
    "zY_std = np.std(zY_array)\n"
   ]
  },
  {
   "cell_type": "code",
   "execution_count": 18,
   "metadata": {
    "collapsed": true
   },
   "outputs": [],
   "source": [
    "# OLD\n",
    "gr_hd = abs(gr_c26202_old-gr_dawd)/2.\n",
    "ri_hd = abs(ri_c26202_old-ri_dawd)/2.\n",
    "i_hd = abs(i_c26202_old-i_dawd)/2.\n",
    "iz_hd = abs(iz_c26202_old-iz_dawd)/2.\n",
    "zY_hd = abs(zY_c26202_old-zY_dawd)/2.\n",
    "#print gr_hd, ri_hd, i_hd, iz_hd, zY_hd"
   ]
  },
  {
   "cell_type": "code",
   "execution_count": 19,
   "metadata": {},
   "outputs": [
    {
     "name": "stdout",
     "output_type": "stream",
     "text": [
      "AB systematic mean/std/half_diff (OLD)\n",
      "--------------------------------------\n",
      "i:       -0.0038      0.0028      0.0028\n",
      "g-r:     -0.0040      0.0066      0.0066\n",
      "r-i:     -0.0071      0.0054      0.0054\n",
      "i-z:     -0.0129      0.0076      0.0076\n",
      "z-Y:      0.0198      0.0130      0.0130\n"
     ]
    }
   ],
   "source": [
    "print \"AB systematic mean/std/half_diff (OLD)\"\n",
    "print \"--------------------------------------\"\n",
    "print \"\"\"i:    %10.4f  %10.4f  %10.4f\"\"\" % (i_mean, i_std, i_hd)\n",
    "print \"\"\"g-r:  %10.4f  %10.4f  %10.4f\"\"\" % (gr_mean, gr_std, gr_hd)\n",
    "print \"\"\"r-i:  %10.4f  %10.4f  %10.4f\"\"\" % (ri_mean, ri_std, ri_hd)\n",
    "print \"\"\"i-z:  %10.4f  %10.4f  %10.4f\"\"\" % (iz_mean, iz_std, iz_hd)\n",
    "print \"\"\"z-Y:  %10.4f  %10.4f  %10.4f\"\"\" % (zY_mean, zY_std, zY_hd)\n"
   ]
  },
  {
   "cell_type": "code",
   "execution_count": 20,
   "metadata": {
    "collapsed": true
   },
   "outputs": [],
   "source": [
    "gr_hdq = math.sqrt(gr_hd*gr_hd + 0.005*0.005)\n",
    "ri_hdq = math.sqrt(ri_hd*ri_hd + 0.005*0.005)\n",
    "i_hdq = math.sqrt(i_hd*i_hd + 0.005*0.005)\n",
    "iz_hdq = math.sqrt(iz_hd*iz_hd + 0.005*0.005)\n",
    "zY_hdq = math.sqrt(zY_hd*zY_hd + 0.005*0.005)"
   ]
  },
  {
   "cell_type": "code",
   "execution_count": 21,
   "metadata": {},
   "outputs": [
    {
     "name": "stdout",
     "output_type": "stream",
     "text": [
      "AB systematic mean/std/half_diff/hd+quad (OLD)\n",
      "----------------------------------------------\n",
      "i:       -0.0038      0.0028      0.0028      0.0057\n",
      "g-r:     -0.0040      0.0066      0.0066      0.0082\n",
      "r-i:     -0.0071      0.0054      0.0054      0.0074\n",
      "i-z:     -0.0129      0.0076      0.0076      0.0091\n",
      "z-Y:      0.0198      0.0130      0.0130      0.0139\n"
     ]
    }
   ],
   "source": [
    "print \"AB systematic mean/std/half_diff/hd+quad (OLD)\"\n",
    "print \"----------------------------------------------\"\n",
    "print \"\"\"i:    %10.4f  %10.4f  %10.4f  %10.4f\"\"\" % (i_mean, i_std, i_hd, i_hdq)\n",
    "print \"\"\"g-r:  %10.4f  %10.4f  %10.4f  %10.4f\"\"\" % (gr_mean, gr_std, gr_hd, gr_hdq)\n",
    "print \"\"\"r-i:  %10.4f  %10.4f  %10.4f  %10.4f\"\"\" % (ri_mean, ri_std, ri_hd, ri_hdq)\n",
    "print \"\"\"i-z:  %10.4f  %10.4f  %10.4f  %10.4f\"\"\" % (iz_mean, iz_std, iz_hd, iz_hdq)\n",
    "print \"\"\"z-Y:  %10.4f  %10.4f  %10.4f  %10.4f\"\"\" % (zY_mean, zY_std, zY_hd, zY_hdq)\n"
   ]
  },
  {
   "cell_type": "code",
   "execution_count": 22,
   "metadata": {
    "collapsed": true
   },
   "outputs": [],
   "source": [
    "# NEW\n",
    "gr_hd = abs(gr_c26202_new-gr_dawd)/2.\n",
    "ri_hd = abs(ri_c26202_new-ri_dawd)/2.\n",
    "i_hd = abs(i_c26202_new-i_dawd)/2.\n",
    "iz_hd = abs(iz_c26202_new-iz_dawd)/2.\n",
    "zY_hd = abs(zY_c26202_new-zY_dawd)/2.\n",
    "#print gr_hd, ri_hd, i_hd, iz_hd, zY_hd"
   ]
  },
  {
   "cell_type": "code",
   "execution_count": 23,
   "metadata": {},
   "outputs": [
    {
     "name": "stdout",
     "output_type": "stream",
     "text": [
      "AB systematic mean/std/half_diff (NEW)\n",
      "--------------------------------------\n",
      "i:       -0.0038      0.0028      0.0000\n",
      "g-r:     -0.0040      0.0066      0.0053\n",
      "r-i:     -0.0071      0.0054      0.0040\n",
      "i-z:     -0.0129      0.0076      0.0092\n",
      "z-Y:      0.0198      0.0130      0.0084\n"
     ]
    }
   ],
   "source": [
    "print \"AB systematic mean/std/half_diff (NEW)\"\n",
    "print \"--------------------------------------\"\n",
    "print \"\"\"i:    %10.4f  %10.4f  %10.4f\"\"\" % (i_mean, i_std, i_hd)\n",
    "print \"\"\"g-r:  %10.4f  %10.4f  %10.4f\"\"\" % (gr_mean, gr_std, gr_hd)\n",
    "print \"\"\"r-i:  %10.4f  %10.4f  %10.4f\"\"\" % (ri_mean, ri_std, ri_hd)\n",
    "print \"\"\"i-z:  %10.4f  %10.4f  %10.4f\"\"\" % (iz_mean, iz_std, iz_hd)\n",
    "print \"\"\"z-Y:  %10.4f  %10.4f  %10.4f\"\"\" % (zY_mean, zY_std, zY_hd)\n"
   ]
  },
  {
   "cell_type": "code",
   "execution_count": 24,
   "metadata": {
    "collapsed": true
   },
   "outputs": [],
   "source": [
    "gr_hdq = math.sqrt(gr_hd*gr_hd + 0.005*0.005)\n",
    "ri_hdq = math.sqrt(ri_hd*ri_hd + 0.005*0.005)\n",
    "i_hdq = math.sqrt(i_hd*i_hd + 0.005*0.005)\n",
    "iz_hdq = math.sqrt(iz_hd*iz_hd + 0.005*0.005)\n",
    "zY_hdq = math.sqrt(zY_hd*zY_hd + 0.005*0.005)"
   ]
  },
  {
   "cell_type": "code",
   "execution_count": 25,
   "metadata": {},
   "outputs": [
    {
     "name": "stdout",
     "output_type": "stream",
     "text": [
      "AB systematic mean/std/half_diff/hd+quad (NEW)\n",
      "----------------------------------------------\n",
      "i:       -0.0038      0.0028      0.0000      0.0050\n",
      "g-r:     -0.0040      0.0066      0.0053      0.0073\n",
      "r-i:     -0.0071      0.0054      0.0040      0.0064\n",
      "i-z:     -0.0129      0.0076      0.0092      0.0105\n",
      "z-Y:      0.0198      0.0130      0.0084      0.0098\n"
     ]
    }
   ],
   "source": [
    "print \"AB systematic mean/std/half_diff/hd+quad (NEW)\"\n",
    "print \"----------------------------------------------\"\n",
    "print \"\"\"i:    %10.4f  %10.4f  %10.4f  %10.4f\"\"\" % (i_mean, i_std, i_hd, i_hdq)\n",
    "print \"\"\"g-r:  %10.4f  %10.4f  %10.4f  %10.4f\"\"\" % (gr_mean, gr_std, gr_hd, gr_hdq)\n",
    "print \"\"\"r-i:  %10.4f  %10.4f  %10.4f  %10.4f\"\"\" % (ri_mean, ri_std, ri_hd, ri_hdq)\n",
    "print \"\"\"i-z:  %10.4f  %10.4f  %10.4f  %10.4f\"\"\" % (iz_mean, iz_std, iz_hd, iz_hdq)\n",
    "print \"\"\"z-Y:  %10.4f  %10.4f  %10.4f  %10.4f\"\"\" % (zY_mean, zY_std, zY_hd, zY_hdq)\n"
   ]
  },
  {
   "cell_type": "markdown",
   "metadata": {
    "collapsed": true
   },
   "source": [
    "## 3. WAVG_MAG_PSF"
   ]
  },
  {
   "cell_type": "code",
   "execution_count": 26,
   "metadata": {
    "collapsed": true
   },
   "outputs": [],
   "source": [
    "# DES DR2 Offsets (Table 2 of DES DR2 paper) \n",
    "i_c26202_old=-0.0010\n",
    "gr_c26202_old=+0.0014\n",
    "ri_c26202_old=-0.0012\n",
    "iz_c26202_old=-0.0058\n",
    "zY_c26202_old=+0.0009\n",
    "\n",
    "i_c26202_new=-0.0066\n",
    "gr_c26202_new=-0.0010\n",
    "ri_c26202_new=-0.0042\n",
    "iz_c26202_new=-0.0025\n",
    "zY_c26202_new=+0.0100\n",
    "\n",
    "i_dawd=i_c26202_new  # since i_dawd does not have a value of its own...\n",
    "gr_dawd=-0.0109\n",
    "ri_dawd=-0.0091\n",
    "iz_dawd=-0.0201\n",
    "zY_dawd=+0.0261"
   ]
  },
  {
   "cell_type": "code",
   "execution_count": 27,
   "metadata": {
    "collapsed": true
   },
   "outputs": [],
   "source": [
    "r_c26202_old = i_c26202_old + ri_c26202_old\n",
    "g_c26202_old = r_c26202_old + gr_c26202_old\n",
    "i_c26202_old = r_c26202_old - ri_c26202_old\n",
    "z_c26202_old = i_c26202_old - iz_c26202_old\n",
    "Y_c26202_old = z_c26202_old - zY_c26202_old"
   ]
  },
  {
   "cell_type": "code",
   "execution_count": 28,
   "metadata": {
    "collapsed": true
   },
   "outputs": [],
   "source": [
    "r_c26202_new = i_c26202_new + ri_c26202_new\n",
    "g_c26202_new = r_c26202_new + gr_c26202_new\n",
    "i_c26202_new = r_c26202_new - ri_c26202_new\n",
    "z_c26202_new = i_c26202_new - iz_c26202_new\n",
    "Y_c26202_new = z_c26202_new - zY_c26202_new"
   ]
  },
  {
   "cell_type": "code",
   "execution_count": 29,
   "metadata": {
    "collapsed": true
   },
   "outputs": [],
   "source": [
    "r_dawd = i_dawd + ri_dawd\n",
    "g_dawd = r_dawd + gr_dawd\n",
    "i_dawd = r_dawd - ri_dawd\n",
    "z_dawd = i_dawd - iz_dawd\n",
    "Y_dawd = z_dawd - zY_dawd"
   ]
  },
  {
   "cell_type": "code",
   "execution_count": 30,
   "metadata": {
    "collapsed": true
   },
   "outputs": [],
   "source": [
    "g_array = np.array((g_c26202_old, g_dawd))\n",
    "r_array = np.array((r_c26202_old, r_dawd))\n",
    "i_array = np.array((i_c26202_old, i_c26202_new))\n",
    "z_array = np.array((z_c26202_old, z_dawd))\n",
    "Y_array = np.array((Y_c26202_old, Y_dawd))"
   ]
  },
  {
   "cell_type": "code",
   "execution_count": 31,
   "metadata": {
    "collapsed": true
   },
   "outputs": [],
   "source": [
    "g_mean = np.mean(g_array)\n",
    "r_mean = np.mean(r_array)\n",
    "i_mean = np.mean(i_array)\n",
    "z_mean = np.mean(z_array)\n",
    "Y_mean = np.mean(Y_array)"
   ]
  },
  {
   "cell_type": "code",
   "execution_count": 32,
   "metadata": {
    "collapsed": true
   },
   "outputs": [],
   "source": [
    "g_std = np.std(g_array)\n",
    "r_std = np.std(r_array)\n",
    "i_std = np.std(i_array)\n",
    "z_std = np.std(z_array)\n",
    "Y_std = np.std(Y_array)"
   ]
  },
  {
   "cell_type": "code",
   "execution_count": 33,
   "metadata": {
    "collapsed": true
   },
   "outputs": [],
   "source": [
    "g_hd = abs(g_c26202_old-g_dawd)/2.\n",
    "r_hd = abs(r_c26202_old-r_dawd)/2.\n",
    "i_hd = abs(i_c26202_old-i_dawd)/2.\n",
    "z_hd = abs(z_c26202_old-z_dawd)/2.\n",
    "Y_hd = abs(Y_c26202_old-Y_dawd)/2."
   ]
  },
  {
   "cell_type": "code",
   "execution_count": 34,
   "metadata": {},
   "outputs": [
    {
     "name": "stdout",
     "output_type": "stream",
     "text": [
      "AB systematic mean/std/half_diff\n",
      "----------------------\n",
      "g:     -0.0137      0.0129      0.0129\n",
      "r:     -0.0089      0.0067      0.0067\n",
      "i:     -0.0038      0.0028      0.0028\n",
      "z:      0.0092      0.0044      0.0044\n",
      "Y:     -0.0043      0.0083      0.0083\n"
     ]
    }
   ],
   "source": [
    "print \"AB systematic mean/std/half_diff\"\n",
    "print \"----------------------\"\n",
    "print \"\"\"g:  %10.4f  %10.4f  %10.4f\"\"\" % (g_mean, g_std, g_hd)\n",
    "print \"\"\"r:  %10.4f  %10.4f  %10.4f\"\"\" % (r_mean, r_std, r_hd)\n",
    "print \"\"\"i:  %10.4f  %10.4f  %10.4f\"\"\" % (i_mean, i_std, i_hd)\n",
    "print \"\"\"z:  %10.4f  %10.4f  %10.4f\"\"\" % (z_mean, z_std, z_hd)\n",
    "print \"\"\"Y:  %10.4f  %10.4f  %10.4f\"\"\" % (Y_mean, Y_std, Y_hd)\n"
   ]
  },
  {
   "cell_type": "code",
   "execution_count": 35,
   "metadata": {
    "collapsed": true
   },
   "outputs": [],
   "source": [
    "# Add 0.005 (or 0.007 for z, Y) in quadrature, \n",
    "#  based on Sect 2.3 and Fig. 4 of \n",
    "#  Bohlin, Hubeny, & Rauch 2020, AJ, 160, 21 \n",
    "#  and on Bohlin 2014, AJ, 147, 127...\n",
    "g_hdq = math.sqrt(g_hd*g_hd + 0.005*0.005)\n",
    "r_hdq = math.sqrt(r_hd*r_hd + 0.005*0.005)\n",
    "i_hdq = math.sqrt(i_hd*i_hd + 0.005*0.005)\n",
    "z_hdq = math.sqrt(z_hd*z_hd + 0.007*0.007)\n",
    "Y_hdq = math.sqrt(Y_hd*Y_hd + 0.007*0.007)"
   ]
  },
  {
   "cell_type": "code",
   "execution_count": 36,
   "metadata": {},
   "outputs": [
    {
     "name": "stdout",
     "output_type": "stream",
     "text": [
      "AB systematic mean/std/half_diff/hd+quad\n",
      "----------------------------------------\n",
      "g:     -0.0137      0.0129      0.0129      0.0138\n",
      "r:     -0.0089      0.0067      0.0067      0.0084\n",
      "i:     -0.0038      0.0028      0.0028      0.0057\n",
      "z:      0.0092      0.0044      0.0044      0.0082\n",
      "Y:     -0.0043      0.0083      0.0083      0.0108\n"
     ]
    }
   ],
   "source": [
    "print \"AB systematic mean/std/half_diff/hd+quad\"\n",
    "print \"----------------------------------------\"\n",
    "print \"\"\"g:  %10.4f  %10.4f  %10.4f  %10.4f\"\"\" % (g_mean, g_std, g_hd, g_hdq)\n",
    "print \"\"\"r:  %10.4f  %10.4f  %10.4f  %10.4f\"\"\" % (r_mean, r_std, r_hd, r_hdq)\n",
    "print \"\"\"i:  %10.4f  %10.4f  %10.4f  %10.4f\"\"\" % (i_mean, i_std, i_hd, i_hdq)\n",
    "print \"\"\"z:  %10.4f  %10.4f  %10.4f  %10.4f\"\"\" % (z_mean, z_std, z_hd, z_hdq)\n",
    "print \"\"\"Y:  %10.4f  %10.4f  %10.4f  %10.4f\"\"\" % (Y_mean, Y_std, Y_hd, Y_hdq)\n"
   ]
  },
  {
   "cell_type": "code",
   "execution_count": 37,
   "metadata": {
    "collapsed": true
   },
   "outputs": [],
   "source": [
    "gr_array = np.array((gr_c26202_old, gr_dawd))\n",
    "ri_array = np.array((ri_c26202_old, ri_dawd))\n",
    "i_array = np.array((i_c26202_old, i_c26202_new))\n",
    "iz_array = np.array((iz_c26202_old, iz_dawd))\n",
    "zY_array = np.array((zY_c26202_old, zY_dawd))\n"
   ]
  },
  {
   "cell_type": "code",
   "execution_count": 38,
   "metadata": {
    "collapsed": true
   },
   "outputs": [],
   "source": [
    "gr_mean = np.mean(gr_array)\n",
    "ri_mean = np.mean(ri_array)\n",
    "i_mean = np.mean(i_array)\n",
    "iz_mean = np.mean(iz_array)\n",
    "zY_mean = np.mean(zY_array)\n"
   ]
  },
  {
   "cell_type": "code",
   "execution_count": 39,
   "metadata": {
    "collapsed": true
   },
   "outputs": [],
   "source": [
    "gr_std = np.std(gr_array)\n",
    "ri_std = np.std(ri_array)\n",
    "i_std = np.std(i_array)\n",
    "iz_std = np.std(iz_array)\n",
    "zY_std = np.std(zY_array)\n"
   ]
  },
  {
   "cell_type": "code",
   "execution_count": 40,
   "metadata": {
    "collapsed": true
   },
   "outputs": [],
   "source": [
    "# OLD\n",
    "gr_hd = abs(gr_c26202_old-gr_dawd)/2.\n",
    "ri_hd = abs(ri_c26202_old-ri_dawd)/2.\n",
    "i_hd = abs(i_c26202_old-i_dawd)/2.\n",
    "iz_hd = abs(iz_c26202_old-iz_dawd)/2.\n",
    "zY_hd = abs(zY_c26202_old-zY_dawd)/2.\n",
    "#print gr_hd, ri_hd, i_hd, iz_hd, zY_hd"
   ]
  },
  {
   "cell_type": "code",
   "execution_count": 41,
   "metadata": {},
   "outputs": [
    {
     "name": "stdout",
     "output_type": "stream",
     "text": [
      "AB systematic mean/std/half_diff (OLD)\n",
      "--------------------------------\n",
      "i:       -0.0038      0.0028      0.0028\n",
      "g-r:     -0.0047      0.0062      0.0062\n",
      "r-i:     -0.0052      0.0040      0.0040\n",
      "i-z:     -0.0129      0.0072      0.0072\n",
      "z-Y:      0.0135      0.0126      0.0126\n"
     ]
    }
   ],
   "source": [
    "print \"AB systematic mean/std/half_diff (OLD)\"\n",
    "print \"--------------------------------\"\n",
    "print \"\"\"i:    %10.4f  %10.4f  %10.4f\"\"\" % (i_mean, i_std, i_hd)\n",
    "print \"\"\"g-r:  %10.4f  %10.4f  %10.4f\"\"\" % (gr_mean, gr_std, gr_hd)\n",
    "print \"\"\"r-i:  %10.4f  %10.4f  %10.4f\"\"\" % (ri_mean, ri_std, ri_hd)\n",
    "print \"\"\"i-z:  %10.4f  %10.4f  %10.4f\"\"\" % (iz_mean, iz_std, iz_hd)\n",
    "print \"\"\"z-Y:  %10.4f  %10.4f  %10.4f\"\"\" % (zY_mean, zY_std, zY_hd)\n"
   ]
  },
  {
   "cell_type": "code",
   "execution_count": 42,
   "metadata": {
    "collapsed": true
   },
   "outputs": [],
   "source": [
    "gr_hdq = math.sqrt(gr_hd*gr_hd + 0.005*0.005)\n",
    "ri_hdq = math.sqrt(ri_hd*ri_hd + 0.005*0.005)\n",
    "i_hdq = math.sqrt(i_hd*i_hd + 0.005*0.005)\n",
    "iz_hdq = math.sqrt(iz_hd*iz_hd + 0.005*0.005)\n",
    "zY_hdq = math.sqrt(zY_hd*zY_hd + 0.005*0.005)"
   ]
  },
  {
   "cell_type": "code",
   "execution_count": 43,
   "metadata": {},
   "outputs": [
    {
     "name": "stdout",
     "output_type": "stream",
     "text": [
      "AB systematic mean/std/half_diff/hd+quad (OLD)\n",
      "----------------------------------------------\n",
      "i:       -0.0038      0.0028      0.0028      0.0057\n",
      "g-r:     -0.0047      0.0062      0.0062      0.0079\n",
      "r-i:     -0.0052      0.0040      0.0040      0.0064\n",
      "i-z:     -0.0129      0.0072      0.0072      0.0087\n",
      "z-Y:      0.0135      0.0126      0.0126      0.0136\n"
     ]
    }
   ],
   "source": [
    "print \"AB systematic mean/std/half_diff/hd+quad (OLD)\"\n",
    "print \"----------------------------------------------\"\n",
    "print \"\"\"i:    %10.4f  %10.4f  %10.4f  %10.4f\"\"\" % (i_mean, i_std, i_hd, i_hdq)\n",
    "print \"\"\"g-r:  %10.4f  %10.4f  %10.4f  %10.4f\"\"\" % (gr_mean, gr_std, gr_hd, gr_hdq)\n",
    "print \"\"\"r-i:  %10.4f  %10.4f  %10.4f  %10.4f\"\"\" % (ri_mean, ri_std, ri_hd, ri_hdq)\n",
    "print \"\"\"i-z:  %10.4f  %10.4f  %10.4f  %10.4f\"\"\" % (iz_mean, iz_std, iz_hd, iz_hdq)\n",
    "print \"\"\"z-Y:  %10.4f  %10.4f  %10.4f  %10.4f\"\"\" % (zY_mean, zY_std, zY_hd, zY_hdq)\n"
   ]
  },
  {
   "cell_type": "code",
   "execution_count": 44,
   "metadata": {
    "collapsed": true
   },
   "outputs": [],
   "source": [
    "# NEW\n",
    "gr_hd = abs(gr_c26202_new-gr_dawd)/2.\n",
    "ri_hd = abs(ri_c26202_new-ri_dawd)/2.\n",
    "i_hd = abs(i_c26202_new-i_dawd)/2.\n",
    "iz_hd = abs(iz_c26202_new-iz_dawd)/2.\n",
    "zY_hd = abs(zY_c26202_new-zY_dawd)/2.\n",
    "#print gr_hd, ri_hd, i_hd, iz_hd, zY_hd"
   ]
  },
  {
   "cell_type": "code",
   "execution_count": 45,
   "metadata": {},
   "outputs": [
    {
     "name": "stdout",
     "output_type": "stream",
     "text": [
      "AB systematic mean/std/half_diff (NEW)\n",
      "--------------------------------\n",
      "i:       -0.0038      0.0028      0.0000\n",
      "g-r:     -0.0047      0.0062      0.0049\n",
      "r-i:     -0.0052      0.0040      0.0025\n",
      "i-z:     -0.0129      0.0072      0.0088\n",
      "z-Y:      0.0135      0.0126      0.0081\n"
     ]
    }
   ],
   "source": [
    "print \"AB systematic mean/std/half_diff (NEW)\"\n",
    "print \"--------------------------------\"\n",
    "print \"\"\"i:    %10.4f  %10.4f  %10.4f\"\"\" % (i_mean, i_std, i_hd)\n",
    "print \"\"\"g-r:  %10.4f  %10.4f  %10.4f\"\"\" % (gr_mean, gr_std, gr_hd)\n",
    "print \"\"\"r-i:  %10.4f  %10.4f  %10.4f\"\"\" % (ri_mean, ri_std, ri_hd)\n",
    "print \"\"\"i-z:  %10.4f  %10.4f  %10.4f\"\"\" % (iz_mean, iz_std, iz_hd)\n",
    "print \"\"\"z-Y:  %10.4f  %10.4f  %10.4f\"\"\" % (zY_mean, zY_std, zY_hd)\n"
   ]
  },
  {
   "cell_type": "code",
   "execution_count": 46,
   "metadata": {
    "collapsed": true
   },
   "outputs": [],
   "source": [
    "gr_hdq = math.sqrt(gr_hd*gr_hd + 0.005*0.005)\n",
    "ri_hdq = math.sqrt(ri_hd*ri_hd + 0.005*0.005)\n",
    "i_hdq = math.sqrt(i_hd*i_hd + 0.005*0.005)\n",
    "iz_hdq = math.sqrt(iz_hd*iz_hd + 0.005*0.005)\n",
    "zY_hdq = math.sqrt(zY_hd*zY_hd + 0.005*0.005)"
   ]
  },
  {
   "cell_type": "code",
   "execution_count": 47,
   "metadata": {},
   "outputs": [
    {
     "name": "stdout",
     "output_type": "stream",
     "text": [
      "AB systematic mean/std/half_diff/hd+quad (NEW)\n",
      "----------------------------------------------\n",
      "i:       -0.0038      0.0028      0.0000      0.0050\n",
      "g-r:     -0.0047      0.0062      0.0049      0.0070\n",
      "r-i:     -0.0052      0.0040      0.0025      0.0056\n",
      "i-z:     -0.0129      0.0072      0.0088      0.0101\n",
      "z-Y:      0.0135      0.0126      0.0081      0.0095\n"
     ]
    }
   ],
   "source": [
    "print \"AB systematic mean/std/half_diff/hd+quad (NEW)\"\n",
    "print \"----------------------------------------------\"\n",
    "print \"\"\"i:    %10.4f  %10.4f  %10.4f  %10.4f\"\"\" % (i_mean, i_std, i_hd, i_hdq)\n",
    "print \"\"\"g-r:  %10.4f  %10.4f  %10.4f  %10.4f\"\"\" % (gr_mean, gr_std, gr_hd, gr_hdq)\n",
    "print \"\"\"r-i:  %10.4f  %10.4f  %10.4f  %10.4f\"\"\" % (ri_mean, ri_std, ri_hd, ri_hdq)\n",
    "print \"\"\"i-z:  %10.4f  %10.4f  %10.4f  %10.4f\"\"\" % (iz_mean, iz_std, iz_hd, iz_hdq)\n",
    "print \"\"\"z-Y:  %10.4f  %10.4f  %10.4f  %10.4f\"\"\" % (zY_mean, zY_std, zY_hd, zY_hdq)\n"
   ]
  },
  {
   "cell_type": "code",
   "execution_count": 48,
   "metadata": {
    "collapsed": true
   },
   "outputs": [],
   "source": [
    "#1. Bohlin private communication, 18 Jan 2021; Bohlin et al. 2019:\n",
    "#   C26202 is tied to CalSpec system at the c. 1% level in optical.\n",
    "#2. Bohlin, Hubeny, & Rauch 2020, AJ, 160, 21 (Sect 2.3 and Fig. 4) \n",
    "#   and Bohlin 2014, AJ, 147, 127:\n",
    "#   CalSpec system tied to AB system at c. 0.5% in optical;\n",
    "#   to c. 0.7% at z,Y wavelengths\n",
    "#3. Adding in quadrature:\n",
    "g_sys = math.sqrt(0.010*0.010 + 0.005*0.005)\n",
    "r_sys = math.sqrt(0.010*0.010 + 0.005*0.005)\n",
    "i_sys = math.sqrt(0.010*0.010 + 0.005*0.005)\n",
    "z_sys = math.sqrt(0.010*0.010 + 0.007*0.007)\n",
    "Y_sys = math.sqrt(0.010*0.010 + 0.007*0.007)"
   ]
  },
  {
   "cell_type": "code",
   "execution_count": 49,
   "metadata": {},
   "outputs": [
    {
     "name": "stdout",
     "output_type": "stream",
     "text": [
      "AB systematic mean/std/half_diff/hd+quad\n",
      "----------------------------------------\n",
      "g:      0.0112\n",
      "r:      0.0112\n",
      "i:      0.0112\n",
      "z:      0.0122\n",
      "Y:      0.0122\n"
     ]
    }
   ],
   "source": [
    "print \"AB systematic mean/std/half_diff/hd+quad\"\n",
    "print \"----------------------------------------\"\n",
    "print \"\"\"g:  %10.4f\"\"\" % (g_sys)\n",
    "print \"\"\"r:  %10.4f\"\"\" % (r_sys)\n",
    "print \"\"\"i:  %10.4f\"\"\" % (i_sys)\n",
    "print \"\"\"z:  %10.4f\"\"\" % (z_sys)\n",
    "print \"\"\"Y:  %10.4f\"\"\" % (Y_sys)"
   ]
  },
  {
   "cell_type": "code",
   "execution_count": 50,
   "metadata": {},
   "outputs": [
    {
     "data": {
      "text/plain": [
       "0.007071067811865476"
      ]
     },
     "execution_count": 50,
     "metadata": {},
     "output_type": "execute_result"
    }
   ],
   "source": [
    "math.sqrt(2)*0.005"
   ]
  },
  {
   "cell_type": "code",
   "execution_count": null,
   "metadata": {
    "collapsed": true
   },
   "outputs": [],
   "source": []
  },
  {
   "cell_type": "code",
   "execution_count": null,
   "metadata": {
    "collapsed": true
   },
   "outputs": [],
   "source": []
  }
 ],
 "metadata": {
  "kernelspec": {
   "display_name": "Python 2",
   "language": "python",
   "name": "python2"
  },
  "language_info": {
   "codemirror_mode": {
    "name": "ipython",
    "version": 2
   },
   "file_extension": ".py",
   "mimetype": "text/x-python",
   "name": "python",
   "nbconvert_exporter": "python",
   "pygments_lexer": "ipython2",
   "version": "2.7.13"
  }
 },
 "nbformat": 4,
 "nbformat_minor": 2
}
