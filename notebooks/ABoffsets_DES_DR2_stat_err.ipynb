{
 "cells": [
  {
   "cell_type": "markdown",
   "metadata": {
    "collapsed": true
   },
   "source": [
    "# ABoffsets_DES_DR2_stat_err\n",
    "\n",
    "Created:  2021.01.04"
   ]
  },
  {
   "cell_type": "markdown",
   "metadata": {},
   "source": [
    "**Let us consider the \"precision\" (statistical error) in the absolute calibration to mean how well we have tied the data in the DES footprint to the \"Truth\" -- whether that Truth is a spectrum of C26202 from the HST CalSpec database or an ensemble of DA white dwarf models of a \"Golden sample\" of DA WDs scattered over the DES footprint.  In this case, we are most interested in the DES observational errors rather than the errors in the spectrophotometric standards we are tying the DES to.  We cover this case in this Jupyter notebook.**\n",
    "\n",
    "**Let us thus consider the \"accuracy\" (systematic error) in the absolute calibration to mean how True is the Truth (how well do the C26202 or the ensemble of DA WD models reflect reality).  We cover this in a separate Jupyter notebook.** "
   ]
  },
  {
   "cell_type": "markdown",
   "metadata": {},
   "source": [
    "## 1. Initial Setup..."
   ]
  },
  {
   "cell_type": "code",
   "execution_count": 1,
   "metadata": {
    "collapsed": true
   },
   "outputs": [],
   "source": [
    "import numpy as np\n",
    "import pandas as pd\n",
    "import glob\n",
    "import math\n",
    "import os\n",
    "\n",
    "import matplotlib.pyplot as plt\n",
    "\n",
    "\n",
    "%matplotlib inline"
   ]
  },
  {
   "cell_type": "markdown",
   "metadata": {},
   "source": [
    "## 2. Input Files..."
   ]
  },
  {
   "cell_type": "code",
   "execution_count": 2,
   "metadata": {
    "collapsed": true
   },
   "outputs": [],
   "source": [
    "# Input file...\n",
    "dirName='/data/des40.a/data/dtucker/Y6A1_abscal/SynthMags/CalSpec/v2020-04-27'\n",
    "inputFile_calspec = dirName+'/y6a2CoaddSummary_match_best_36arcsec.combined.csv'"
   ]
  },
  {
   "cell_type": "markdown",
   "metadata": {},
   "source": [
    "## 3.  Analysis..."
   ]
  },
  {
   "cell_type": "markdown",
   "metadata": {},
   "source": [
    "### Read in file..."
   ]
  },
  {
   "cell_type": "code",
   "execution_count": 3,
   "metadata": {
    "collapsed": true
   },
   "outputs": [],
   "source": [
    "calspec_df = pd.read_csv(inputFile_calspec)\n",
    "mask1 = calspec_df.NEPOCHS_G.notnull()\n",
    "mask2 = calspec_df.Separation < 5.0\n",
    "mask3 = np.abs(calspec_df.MAG_AUTO_I - calspec_df.i) < 0.5\n",
    "mask = mask1 & mask2 & mask3\n",
    "calspec_df = calspec_df[mask].copy().reset_index(drop=True)"
   ]
  },
  {
   "cell_type": "markdown",
   "metadata": {},
   "source": [
    "### MAG_AUTO Analysis..."
   ]
  },
  {
   "cell_type": "code",
   "execution_count": 4,
   "metadata": {},
   "outputs": [
    {
     "data": {
      "text/html": [
       "<div>\n",
       "<table border=\"1\" class=\"dataframe\">\n",
       "  <thead>\n",
       "    <tr style=\"text-align: right;\">\n",
       "      <th></th>\n",
       "      <th>objShortName</th>\n",
       "      <th>MAGERR_AUTO_G</th>\n",
       "      <th>MAGERR_AUTO_R</th>\n",
       "      <th>MAGERR_AUTO_I</th>\n",
       "      <th>MAGERR_AUTO_Z</th>\n",
       "      <th>MAGERR_AUTO_Y</th>\n",
       "    </tr>\n",
       "  </thead>\n",
       "  <tbody>\n",
       "    <tr>\n",
       "      <th>0</th>\n",
       "      <td>c26202</td>\n",
       "      <td>0.000368</td>\n",
       "      <td>0.000319</td>\n",
       "      <td>0.000416</td>\n",
       "      <td>0.000584</td>\n",
       "      <td>0.002509</td>\n",
       "    </tr>\n",
       "    <tr>\n",
       "      <th>1</th>\n",
       "      <td>c26202</td>\n",
       "      <td>0.000368</td>\n",
       "      <td>0.000319</td>\n",
       "      <td>0.000416</td>\n",
       "      <td>0.000584</td>\n",
       "      <td>0.002509</td>\n",
       "    </tr>\n",
       "    <tr>\n",
       "      <th>2</th>\n",
       "      <td>wd0320_539</td>\n",
       "      <td>0.000202</td>\n",
       "      <td>0.000351</td>\n",
       "      <td>0.000310</td>\n",
       "      <td>0.000588</td>\n",
       "      <td>0.002028</td>\n",
       "    </tr>\n",
       "    <tr>\n",
       "      <th>3</th>\n",
       "      <td>wd0320_539</td>\n",
       "      <td>0.000202</td>\n",
       "      <td>0.000351</td>\n",
       "      <td>0.000310</td>\n",
       "      <td>0.000588</td>\n",
       "      <td>0.002028</td>\n",
       "    </tr>\n",
       "  </tbody>\n",
       "</table>\n",
       "</div>"
      ],
      "text/plain": [
       "  objShortName  MAGERR_AUTO_G  MAGERR_AUTO_R  MAGERR_AUTO_I  MAGERR_AUTO_Z  \\\n",
       "0       c26202       0.000368       0.000319       0.000416       0.000584   \n",
       "1       c26202       0.000368       0.000319       0.000416       0.000584   \n",
       "2   wd0320_539       0.000202       0.000351       0.000310       0.000588   \n",
       "3   wd0320_539       0.000202       0.000351       0.000310       0.000588   \n",
       "\n",
       "   MAGERR_AUTO_Y  \n",
       "0       0.002509  \n",
       "1       0.002509  \n",
       "2       0.002028  \n",
       "3       0.002028  "
      ]
     },
     "execution_count": 4,
     "metadata": {},
     "output_type": "execute_result"
    }
   ],
   "source": [
    "calspec_df['gr_std'] = (calspec_df['MAG_AUTO_G'] - calspec_df['MAG_AUTO_R'])\n",
    "calspec_df['ri_std'] = (calspec_df['MAG_AUTO_R'] - calspec_df['MAG_AUTO_I'])\n",
    "calspec_df['iz_std'] = (calspec_df['MAG_AUTO_I'] - calspec_df['MAG_AUTO_Z'])\n",
    "calspec_df['zY_std'] = (calspec_df['MAG_AUTO_Z'] - calspec_df['MAG_AUTO_Y'])\n",
    "calspec_df['gi_std'] = (calspec_df['MAG_AUTO_G'] - calspec_df['MAG_AUTO_I'])\n",
    "\n",
    "calspec_df['gr_std_err']=np.sqrt(calspec_df['MAGERR_AUTO_G']*calspec_df['MAGERR_AUTO_G'] + \\\n",
    "                                 calspec_df['MAGERR_AUTO_R']*calspec_df['MAGERR_AUTO_R'] )\n",
    "calspec_df['ri_std_err']=np.sqrt(calspec_df['MAGERR_AUTO_R']*calspec_df['MAGERR_AUTO_R'] + \\\n",
    "                                 calspec_df['MAGERR_AUTO_I']*calspec_df['MAGERR_AUTO_I'] )\n",
    "calspec_df['iz_std_err']=np.sqrt(calspec_df['MAGERR_AUTO_I']*calspec_df['MAGERR_AUTO_I'] + \\\n",
    "                                 calspec_df['MAGERR_AUTO_Z']*calspec_df['MAGERR_AUTO_Z'] )\n",
    "calspec_df['zY_std_err']=np.sqrt(calspec_df['MAGERR_AUTO_Z']*calspec_df['MAGERR_AUTO_Z'] + \\\n",
    "                                 calspec_df['MAGERR_AUTO_Y']*calspec_df['MAGERR_AUTO_Y'] )\n",
    "calspec_df['gi_std_err']=np.sqrt(calspec_df['MAGERR_AUTO_G']*calspec_df['MAGERR_AUTO_G'] + \\\n",
    "                                 calspec_df['MAGERR_AUTO_I']*calspec_df['MAGERR_AUTO_I'] )\n",
    "\n",
    "calspec_df['gi'] = ( calspec_df['gr'] + calspec_df['ri'] )\n",
    "\n",
    "calspec_df['avgerr_gr'] = 0.0\n",
    "calspec_df['avgerr_ri'] = 0.0\n",
    "calspec_df['avgerr_iz'] = 0.0\n",
    "calspec_df['avgerr_zY'] = 0.0\n",
    "calspec_df['avgerr_gi'] = 0.0\n",
    "\n",
    "calspec_df['delta_STD_gr'] = calspec_df['gr_std'] - calspec_df['gr']\n",
    "calspec_df['delta_STD_ri'] = calspec_df['ri_std'] - calspec_df['ri']\n",
    "calspec_df['delta_STD_iz'] = calspec_df['iz_std'] - calspec_df['iz']\n",
    "calspec_df['delta_STD_zY'] = calspec_df['zY_std'] - calspec_df['zY']\n",
    "\n",
    "calspec_df['Err_STD_gr'] = np.sqrt(calspec_df['MAGERR_AUTO_G']*calspec_df['MAGERR_AUTO_G'] + \\\n",
    "                                   calspec_df['MAGERR_AUTO_R']*calspec_df['MAGERR_AUTO_R'] + \\\n",
    "                                   calspec_df['avgerr_gr']*calspec_df['avgerr_gr'])\n",
    "\n",
    "calspec_df['Err_STD_ri'] = np.sqrt(calspec_df['MAGERR_AUTO_R']*calspec_df['MAGERR_AUTO_R'] + \\\n",
    "                                   calspec_df['MAGERR_AUTO_I']*calspec_df['MAGERR_AUTO_I'] + \\\n",
    "                                   calspec_df['avgerr_ri']*calspec_df['avgerr_ri'])\n",
    "\n",
    "calspec_df['Err_STD_iz'] = np.sqrt(calspec_df['MAGERR_AUTO_I']*calspec_df['MAGERR_AUTO_I'] + \\\n",
    "                                   calspec_df['MAGERR_AUTO_Z']*calspec_df['MAGERR_AUTO_Z'] + \\\n",
    "                                   calspec_df['avgerr_iz']*calspec_df['avgerr_iz'])\n",
    "\n",
    "calspec_df['Err_STD_zY'] = np.sqrt(calspec_df['MAGERR_AUTO_Z']*calspec_df['MAGERR_AUTO_Z'] + \\\n",
    "                                   calspec_df['MAGERR_AUTO_Y']*calspec_df['MAGERR_AUTO_Y'] + \\\n",
    "                                   calspec_df['avgerr_zY']*calspec_df['avgerr_zY'])\n",
    "\n",
    "#print  calspec_df['MAGERR_AUTO_I'], calspec_df['WAVG_MAGERR_PSF_I']\n",
    "\n",
    "#calspec_df\n",
    "#calspec_df[['objShortName','gr']]\n",
    "#calspec_df[['objShortName','MAGERR_AUTO_I','Err_STD_gr','Err_STD_ri','Err_STD_iz','Err_STD_zY']]\n",
    "calspec_df[['objShortName','MAGERR_AUTO_G','MAGERR_AUTO_R','MAGERR_AUTO_I','MAGERR_AUTO_Z','MAGERR_AUTO_Y']]"
   ]
  },
  {
   "cell_type": "code",
   "execution_count": 5,
   "metadata": {
    "collapsed": true
   },
   "outputs": [],
   "source": [
    "# Let us consider the \"precision\" (statisical error) in the absolute calibration \n",
    "# to mean how well we have tied the data in the DES footprint to the \"Truth\" -- \n",
    "# whether that Truth is a spectrum of C26202 from the HST CalSpec database or an \n",
    "# ensemble of DA white dwarf models of a \"Golden sample\" of DA WDs scattered over \n",
    "# the DES footprint.  We cover this in this Jupyter notebook.\n",
    "#\n",
    "# We will consider \"accuracy\" (systematic error) in the absolute calibration\n",
    "# to mean how True is the Truth (how well do the C26202 or the ensemble of \n",
    "# DA WD models reflect reality).  We cover this in a separate Jupyter notebook. "
   ]
  },
  {
   "cell_type": "code",
   "execution_count": 6,
   "metadata": {},
   "outputs": [
    {
     "name": "stdout",
     "output_type": "stream",
     "text": [
      "g_rms_stat: 0.00218160491382\n",
      "r_rms_stat: 0.00217368350962\n",
      "i_rms_stat: 0.00219063917613\n",
      "z_rms_stat: 0.00222685877415\n",
      "Y_rms_stat: 0.00330493570285\n"
     ]
    }
   ],
   "source": [
    "# Table 1 Absolute Calibration Precision \n",
    "#  (based on observations of C26202, which\n",
    "#   are the absolute calibration \"as provided\"):\n",
    "#\n",
    "# For individual mags, assume statistical error is Poisson flux \n",
    "#  error and coadd uniformity error added in quadrature:\n",
    "print 'g_rms_stat:', math.sqrt(0.00037*0.00037 + 0.00215*0.00215)\n",
    "print 'r_rms_stat:', math.sqrt(0.00032*0.00032 + 0.00215*0.00215)\n",
    "print 'i_rms_stat:', math.sqrt(0.00042*0.00042 + 0.00215*0.00215)\n",
    "print 'z_rms_stat:', math.sqrt(0.00058*0.00058 + 0.00215*0.00215)\n",
    "print 'Y_rms_stat:', math.sqrt(0.00251*0.00251 + 0.00215*0.00215)\n",
    "\n",
    "# Note: since we are concerned how well the data in the whole\n",
    "#  DES footprint is tied to C26202, we include the uniformity\n",
    "#  error (e.g., what if C26202 were located in a different part\n",
    "#  of the footprint -- in that case, its observed mags would likely\n",
    "#  be different, since the DES is not perfectly uniform photometrically.)"
   ]
  },
  {
   "cell_type": "code",
   "execution_count": 7,
   "metadata": {},
   "outputs": [
    {
     "name": "stdout",
     "output_type": "stream",
     "text": [
      "i_rms_stat: 0.00219063917613\n",
      "(g-r)_rms_stat: 0.000489182992345\n",
      "(r-i)_rms_stat: 0.000528015151298\n",
      "(i-z)_rms_stat: 0.000716100551599\n",
      "(z-Y)_rms_stat: 0.00257614052412\n"
     ]
    }
   ],
   "source": [
    "# Table 2 Absolute Calibration Precision for C26202:\n",
    "\n",
    "# For colors, assume statistical error is Poisson flux \n",
    "#  errors of the two mags added in quadrature (but that \n",
    "#  coadd uniformity error cancels out -- i.e.. that the\n",
    "#  offsets in uniformity are 100% correlated across the\n",
    "#  DES passbands):\n",
    "print 'i_rms_stat:', math.sqrt(0.00042*0.00042 + 0.00215*0.00215)\n",
    "print '(g-r)_rms_stat:', math.sqrt(0.00037*0.00037 + 0.00032*0.00032)\n",
    "print '(r-i)_rms_stat:', math.sqrt(0.00032*0.00032 + 0.00042*0.00042)\n",
    "print '(i-z)_rms_stat:', math.sqrt(0.00042*0.00042 + 0.00058*0.00058)\n",
    "print '(z-Y)_rms_stat:', math.sqrt(0.00058*0.00058 + 0.00251*0.00251)"
   ]
  },
  {
   "cell_type": "markdown",
   "metadata": {},
   "source": [
    "### WAVG_MAG_PSF Analysis..."
   ]
  },
  {
   "cell_type": "code",
   "execution_count": 8,
   "metadata": {},
   "outputs": [
    {
     "data": {
      "text/html": [
       "<div>\n",
       "<table border=\"1\" class=\"dataframe\">\n",
       "  <thead>\n",
       "    <tr style=\"text-align: right;\">\n",
       "      <th></th>\n",
       "      <th>objShortName</th>\n",
       "      <th>WAVG_MAGERR_PSF_G</th>\n",
       "      <th>WAVG_MAGERR_PSF_R</th>\n",
       "      <th>WAVG_MAGERR_PSF_I</th>\n",
       "      <th>WAVG_MAGERR_PSF_Z</th>\n",
       "      <th>WAVG_MAGERR_PSF_Y</th>\n",
       "      <th>NEPOCHS_G</th>\n",
       "      <th>NEPOCHS_R</th>\n",
       "      <th>NEPOCHS_I</th>\n",
       "      <th>NEPOCHS_Z</th>\n",
       "      <th>NEPOCHS_Y</th>\n",
       "    </tr>\n",
       "  </thead>\n",
       "  <tbody>\n",
       "    <tr>\n",
       "      <th>0</th>\n",
       "      <td>c26202</td>\n",
       "      <td>0.000416</td>\n",
       "      <td>0.000348</td>\n",
       "      <td>0.000344</td>\n",
       "      <td>0.000434</td>\n",
       "      <td>0.001347</td>\n",
       "      <td>9.0</td>\n",
       "      <td>8.0</td>\n",
       "      <td>9.0</td>\n",
       "      <td>9.0</td>\n",
       "      <td>6.0</td>\n",
       "    </tr>\n",
       "    <tr>\n",
       "      <th>1</th>\n",
       "      <td>c26202</td>\n",
       "      <td>0.000416</td>\n",
       "      <td>0.000348</td>\n",
       "      <td>0.000344</td>\n",
       "      <td>0.000434</td>\n",
       "      <td>0.001347</td>\n",
       "      <td>9.0</td>\n",
       "      <td>8.0</td>\n",
       "      <td>9.0</td>\n",
       "      <td>9.0</td>\n",
       "      <td>6.0</td>\n",
       "    </tr>\n",
       "    <tr>\n",
       "      <th>2</th>\n",
       "      <td>wd0320_539</td>\n",
       "      <td>0.000299</td>\n",
       "      <td>0.000633</td>\n",
       "      <td>0.000304</td>\n",
       "      <td>0.000410</td>\n",
       "      <td>0.001179</td>\n",
       "      <td>3.0</td>\n",
       "      <td>1.0</td>\n",
       "      <td>6.0</td>\n",
       "      <td>7.0</td>\n",
       "      <td>6.0</td>\n",
       "    </tr>\n",
       "    <tr>\n",
       "      <th>3</th>\n",
       "      <td>wd0320_539</td>\n",
       "      <td>0.000299</td>\n",
       "      <td>0.000633</td>\n",
       "      <td>0.000304</td>\n",
       "      <td>0.000410</td>\n",
       "      <td>0.001179</td>\n",
       "      <td>3.0</td>\n",
       "      <td>1.0</td>\n",
       "      <td>6.0</td>\n",
       "      <td>7.0</td>\n",
       "      <td>6.0</td>\n",
       "    </tr>\n",
       "  </tbody>\n",
       "</table>\n",
       "</div>"
      ],
      "text/plain": [
       "  objShortName  WAVG_MAGERR_PSF_G  WAVG_MAGERR_PSF_R  WAVG_MAGERR_PSF_I  \\\n",
       "0       c26202           0.000416           0.000348           0.000344   \n",
       "1       c26202           0.000416           0.000348           0.000344   \n",
       "2   wd0320_539           0.000299           0.000633           0.000304   \n",
       "3   wd0320_539           0.000299           0.000633           0.000304   \n",
       "\n",
       "   WAVG_MAGERR_PSF_Z  WAVG_MAGERR_PSF_Y  NEPOCHS_G  NEPOCHS_R  NEPOCHS_I  \\\n",
       "0           0.000434           0.001347        9.0        8.0        9.0   \n",
       "1           0.000434           0.001347        9.0        8.0        9.0   \n",
       "2           0.000410           0.001179        3.0        1.0        6.0   \n",
       "3           0.000410           0.001179        3.0        1.0        6.0   \n",
       "\n",
       "   NEPOCHS_Z  NEPOCHS_Y  \n",
       "0        9.0        6.0  \n",
       "1        9.0        6.0  \n",
       "2        7.0        6.0  \n",
       "3        7.0        6.0  "
      ]
     },
     "execution_count": 8,
     "metadata": {},
     "output_type": "execute_result"
    }
   ],
   "source": [
    "calspec_df['gr_std'] = (calspec_df['WAVG_MAG_PSF_G'] - calspec_df['WAVG_MAG_PSF_R'])\n",
    "calspec_df['ri_std'] = (calspec_df['WAVG_MAG_PSF_R'] - calspec_df['WAVG_MAG_PSF_I'])\n",
    "calspec_df['iz_std'] = (calspec_df['WAVG_MAG_PSF_I'] - calspec_df['WAVG_MAG_PSF_Z'])\n",
    "calspec_df['zY_std'] = (calspec_df['WAVG_MAG_PSF_Z'] - calspec_df['WAVG_MAG_PSF_Y'])\n",
    "calspec_df['gi_std'] = (calspec_df['WAVG_MAG_PSF_G'] - calspec_df['WAVG_MAG_PSF_I'])\n",
    "\n",
    "calspec_df['gr_std_err']=np.sqrt(calspec_df['WAVG_MAGERR_PSF_G']*calspec_df['WAVG_MAGERR_PSF_G'] + \\\n",
    "                                 calspec_df['WAVG_MAGERR_PSF_R']*calspec_df['WAVG_MAGERR_PSF_R'] )\n",
    "calspec_df['ri_std_err']=np.sqrt(calspec_df['WAVG_MAGERR_PSF_R']*calspec_df['WAVG_MAGERR_PSF_R'] + \\\n",
    "                                 calspec_df['WAVG_MAGERR_PSF_I']*calspec_df['WAVG_MAGERR_PSF_I'] )\n",
    "calspec_df['iz_std_err']=np.sqrt(calspec_df['WAVG_MAGERR_PSF_I']*calspec_df['WAVG_MAGERR_PSF_I'] + \\\n",
    "                                 calspec_df['WAVG_MAGERR_PSF_Z']*calspec_df['WAVG_MAGERR_PSF_Z'] )\n",
    "calspec_df['zY_std_err']=np.sqrt(calspec_df['WAVG_MAGERR_PSF_Z']*calspec_df['WAVG_MAGERR_PSF_Z'] + \\\n",
    "                                 calspec_df['WAVG_MAGERR_PSF_Y']*calspec_df['WAVG_MAGERR_PSF_Y'] )\n",
    "calspec_df['gi_std_err']=np.sqrt(calspec_df['WAVG_MAGERR_PSF_G']*calspec_df['WAVG_MAGERR_PSF_G'] + \\\n",
    "                                 calspec_df['WAVG_MAGERR_PSF_I']*calspec_df['WAVG_MAGERR_PSF_I'] )\n",
    "\n",
    "calspec_df['gi'] = ( calspec_df['gr'] + calspec_df['ri'] )\n",
    "\n",
    "calspec_df['avgerr_gr'] = 0.0\n",
    "calspec_df['avgerr_ri'] = 0.0\n",
    "calspec_df['avgerr_iz'] = 0.0\n",
    "calspec_df['avgerr_zY'] = 0.0\n",
    "calspec_df['avgerr_gi'] = 0.0\n",
    "\n",
    "calspec_df['delta_STD_gr'] = calspec_df['gr_std'] - calspec_df['gr']\n",
    "calspec_df['delta_STD_ri'] = calspec_df['ri_std'] - calspec_df['ri']\n",
    "calspec_df['delta_STD_iz'] = calspec_df['iz_std'] - calspec_df['iz']\n",
    "calspec_df['delta_STD_zY'] = calspec_df['zY_std'] - calspec_df['zY']\n",
    "\n",
    "calspec_df['Err_STD_gr'] = np.sqrt(calspec_df['WAVG_MAGERR_PSF_G']*calspec_df['WAVG_MAGERR_PSF_G'] + \\\n",
    "                                   calspec_df['WAVG_MAGERR_PSF_R']*calspec_df['WAVG_MAGERR_PSF_R'] + \\\n",
    "                                   calspec_df['avgerr_gr']*calspec_df['avgerr_gr'])\n",
    "\n",
    "calspec_df['Err_STD_ri'] = np.sqrt(calspec_df['WAVG_MAGERR_PSF_R']*calspec_df['WAVG_MAGERR_PSF_R'] + \\\n",
    "                                   calspec_df['WAVG_MAGERR_PSF_I']*calspec_df['WAVG_MAGERR_PSF_I'] + \\\n",
    "                                   calspec_df['avgerr_ri']*calspec_df['avgerr_ri'])\n",
    "\n",
    "calspec_df['Err_STD_iz'] = np.sqrt(calspec_df['WAVG_MAGERR_PSF_I']*calspec_df['WAVG_MAGERR_PSF_I'] + \\\n",
    "                                   calspec_df['WAVG_MAGERR_PSF_Z']*calspec_df['WAVG_MAGERR_PSF_Z'] + \\\n",
    "                                   calspec_df['avgerr_iz']*calspec_df['avgerr_iz'])\n",
    "\n",
    "calspec_df['Err_STD_zY'] = np.sqrt(calspec_df['WAVG_MAGERR_PSF_Z']*calspec_df['WAVG_MAGERR_PSF_Z'] + \\\n",
    "                                   calspec_df['WAVG_MAGERR_PSF_Y']*calspec_df['WAVG_MAGERR_PSF_Y'] + \\\n",
    "                                   calspec_df['avgerr_zY']*calspec_df['avgerr_zY'])\n",
    "\n",
    "#print  calspec_df['WAVG_MAGERR_PSF_I'], calspec_df['WAVG_MAGERR_PSF_I']\n",
    "\n",
    "#calspec_df\n",
    "#calspec_df[['objShortName','gr']]\n",
    "calspec_df[['objShortName','WAVG_MAGERR_PSF_I','Err_STD_gr','Err_STD_ri','Err_STD_iz','Err_STD_zY','NEPOCHS_G','NEPOCHS_R','NEPOCHS_I','NEPOCHS_Z','NEPOCHS_Y']]\n",
    "calspec_df[['objShortName','WAVG_MAGERR_PSF_G','WAVG_MAGERR_PSF_R','WAVG_MAGERR_PSF_I','WAVG_MAGERR_PSF_Z','WAVG_MAGERR_PSF_Y','NEPOCHS_G','NEPOCHS_R','NEPOCHS_I','NEPOCHS_Z','NEPOCHS_Y']]"
   ]
  },
  {
   "cell_type": "code",
   "execution_count": 9,
   "metadata": {},
   "outputs": [
    {
     "name": "stdout",
     "output_type": "stream",
     "text": [
      "g_rms_stat: 0.00219063917613\n",
      "r_rms_stat: 0.00217830209108\n",
      "i_rms_stat: 0.00217671771252\n",
      "z_rms_stat: 0.00219257839084\n",
      "Y_rms_stat: 0.00253870045496\n"
     ]
    }
   ],
   "source": [
    "# Table 1 Absolute Calibration Precision \n",
    "#  (based on observations of C26202, which\n",
    "#   are the absolute calibration \"as provided\"):\n",
    "#\n",
    "# For individual mags, assume statistical error is Poisson flux \n",
    "#  error and coadd uniformity error added in quadrature:\n",
    "print 'g_rms_stat:', math.sqrt(0.00042*0.00042 + 0.00215*0.00215)\n",
    "print 'r_rms_stat:', math.sqrt(0.00035*0.00035 + 0.00215*0.00215)\n",
    "print 'i_rms_stat:', math.sqrt(0.00034*0.00034 + 0.00215*0.00215)\n",
    "print 'z_rms_stat:', math.sqrt(0.00043*0.00043 + 0.00215*0.00215)\n",
    "print 'Y_rms_stat:', math.sqrt(0.00135*0.00135 + 0.00215*0.00215)\n",
    "\n",
    "# Note: since we are concerned how well the data in the whole\n",
    "#  DES footprint is tied to C26202, we include the uniformity\n",
    "#  error (e.g., what if C26202 were located in a different part\n",
    "#  of the footprint -- in that case, its observed mags would likely\n",
    "#  be different, since the DES is not perfectly uniform photometrically.)"
   ]
  },
  {
   "cell_type": "code",
   "execution_count": 10,
   "metadata": {},
   "outputs": [
    {
     "name": "stdout",
     "output_type": "stream",
     "text": [
      "i_rms_stat: 0.00217671771252\n",
      "(g-r)_rms_stat: 0.000546717477313\n",
      "(r-i)_rms_stat: 0.00048795491595\n",
      "(i-z)_rms_stat: 0.000548178802947\n",
      "(z-Y)_rms_stat: 0.00141682744186\n"
     ]
    }
   ],
   "source": [
    "# Table 2 Absolute Calibration Precision for C26202:\n",
    "\n",
    "# For colors, assume statistical error is Poisson flux \n",
    "#  errors of the two mags added in quadrature (but that \n",
    "#  coadd uniformity error cancels out -- i.e.. that the\n",
    "#  offsets in uniformity are 100% correlated across the\n",
    "#  DES passbands):\n",
    "print 'i_rms_stat:', math.sqrt(0.00034*0.00034 + 0.00215*0.00215)\n",
    "print '(g-r)_rms_stat:', math.sqrt(0.00042*0.00042 + 0.00035*0.00035)\n",
    "print '(r-i)_rms_stat:', math.sqrt(0.00035*0.00035 + 0.00034*0.00034)\n",
    "print '(i-z)_rms_stat:', math.sqrt(0.00034*0.00034 + 0.00043*0.00043)\n",
    "print '(z-Y)_rms_stat:', math.sqrt(0.00043*0.00043 + 0.00135*0.00135)"
   ]
  },
  {
   "cell_type": "code",
   "execution_count": null,
   "metadata": {
    "collapsed": true
   },
   "outputs": [],
   "source": []
  }
 ],
 "metadata": {
  "kernelspec": {
   "display_name": "Python 2",
   "language": "python",
   "name": "python2"
  },
  "language_info": {
   "codemirror_mode": {
    "name": "ipython",
    "version": 2
   },
   "file_extension": ".py",
   "mimetype": "text/x-python",
   "name": "python",
   "nbconvert_exporter": "python",
   "pygments_lexer": "ipython2",
   "version": "2.7.13"
  }
 },
 "nbformat": 4,
 "nbformat_minor": 2
}
