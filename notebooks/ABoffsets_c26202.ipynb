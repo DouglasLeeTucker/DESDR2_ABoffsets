{
 "cells": [
  {
   "cell_type": "markdown",
   "metadata": {
    "collapsed": true
   },
   "source": [
    "# ABoffsets_c26202\n",
    "\n",
    "Based on S. Allam's MagClip_Pandas.py code...\n",
    "\n",
    "Created:  2020.11.24"
   ]
  },
  {
   "cell_type": "markdown",
   "metadata": {},
   "source": [
    "## 1. Initial Setup..."
   ]
  },
  {
   "cell_type": "code",
   "execution_count": 7,
   "metadata": {
    "collapsed": true
   },
   "outputs": [],
   "source": [
    "import numpy as np\n",
    "import pandas as pd\n",
    "import glob\n",
    "import math\n",
    "import os\n",
    "\n",
    "import matplotlib.pyplot as plt\n",
    "\n",
    "\n",
    "%matplotlib inline"
   ]
  },
  {
   "cell_type": "code",
   "execution_count": 8,
   "metadata": {
    "collapsed": true
   },
   "outputs": [],
   "source": [
    "# DES Synthetic AB magnitudes for C26202, based on official filter DES (Y3A2) bandpasses:\n",
    "\n",
    "# c26202_stiswfcnic_002.fits (v2020_04_27 release)\n",
    "u_hst20,g_hst20,r_hst20,i_hst20,z_hst20,Y_hst20 = 17.4843,16.6840,16.3319,16.2515,16.2360,16.2493\n",
    "\n",
    "# c26202_stiswfcnic_001.fits (v2019_09_06 release)\n",
    "u_hst19,g_hst19,r_hst19,i_hst19,z_hst19,Y_hst19 = 17.4969,16.6945,16.3405,16.2575,16.2377,16.2473\n",
    "\n",
    "# c26202_stisnic_007.fits (v2017-02-21 release)\n",
    "u_hst17,g_hst17,r_hst17,i_hst17,z_hst17,Y_hst17 = 17.4980,16.6949,16.3405,16.2571,16.2449,16.2673\n",
    "\n",
    "# c26202_stisnic_007.fits (from William Wester's DES-doc#15451)\n",
    "g_ww,r_ww,i_ww,z_ww,Y_ww = 16.6950,16.3405,16.2571,16.2449,16.2673"
   ]
  },
  {
   "cell_type": "code",
   "execution_count": 9,
   "metadata": {
    "collapsed": true
   },
   "outputs": [],
   "source": [
    "# Observed DES DR2 magnitudes for C26202 (from Y6A2_COADD_OBJECTS_SUMMARY table)...\n",
    "g_wavg,r_wavg,i_wavg,z_wavg,Y_wavg = 16.695784,16.342682,16.25813,16.240156,16.263472\n",
    "g_auto,r_auto,i_auto,z_auto,Y_auto = 16.693335,16.341341,16.256319,16.238766,16.268082"
   ]
  },
  {
   "cell_type": "code",
   "execution_count": 10,
   "metadata": {},
   "outputs": [
    {
     "name": "stdout",
     "output_type": "stream",
     "text": [
      "AB offsets based on c26202_stisnic_007.fits\n",
      "===========================================\n",
      "\n",
      "WAVG offsets\n",
      "------------\n",
      "i:        0.0010\n",
      "g-r:     -0.0014\n",
      "r-i:      0.0012\n",
      "i-z:      0.0058\n",
      "z-Y:     -0.0009\n",
      "\n",
      "MAG_AUTO offsets\n",
      "----------------\n",
      "i:        0.0010\n",
      "g-r:     -0.0025\n",
      "r-i:      0.0016\n",
      "i-z:      0.0054\n",
      "z-Y:     -0.0069\n",
      "\n"
     ]
    }
   ],
   "source": [
    "# DES DR2 AB offsets based on c26202_stisnic_007.fits from William Wester's DES-doc#15451...\n",
    "\n",
    "print \"AB offsets based on c26202_stisnic_007.fits\"\n",
    "print \"===========================================\"\n",
    "print \n",
    "\n",
    "aboffset_i = i_wavg - i_ww\n",
    "aboffset_gr = (g_wavg-r_wavg) - (g_ww-r_ww)\n",
    "aboffset_ri = (r_wavg-i_wavg) - (r_ww-i_ww)\n",
    "aboffset_iz = (i_wavg-z_wavg) - (i_ww-z_ww)\n",
    "aboffset_zY = (z_wavg-Y_wavg) - (z_ww-Y_ww)\n",
    "\n",
    "print \"WAVG offsets\"\n",
    "print \"------------\"\n",
    "print \"\"\"i:    %10.4f\"\"\" % (aboffset_i)\n",
    "print \"\"\"g-r:  %10.4f\"\"\" % (aboffset_gr)\n",
    "print \"\"\"r-i:  %10.4f\"\"\" % (aboffset_ri)\n",
    "print \"\"\"i-z:  %10.4f\"\"\" % (aboffset_iz)\n",
    "print \"\"\"z-Y:  %10.4f\"\"\" % (aboffset_zY)\n",
    "print \n",
    "\n",
    "aboffset_i = i_wavg - i_ww\n",
    "aboffset_gr = (g_auto-r_auto) - (g_ww-r_ww)\n",
    "aboffset_ri = (r_auto-i_auto) - (r_ww-i_ww)\n",
    "aboffset_iz = (i_auto-z_auto) - (i_ww-z_ww)\n",
    "aboffset_zY = (z_auto-Y_auto) - (z_ww-Y_ww)\n",
    "\n",
    "print \"MAG_AUTO offsets\"\n",
    "print \"----------------\"\n",
    "print \"\"\"i:    %10.4f\"\"\" % (aboffset_i)\n",
    "print \"\"\"g-r:  %10.4f\"\"\" % (aboffset_gr)\n",
    "print \"\"\"r-i:  %10.4f\"\"\" % (aboffset_ri)\n",
    "print \"\"\"i-z:  %10.4f\"\"\" % (aboffset_iz)\n",
    "print \"\"\"z-Y:  %10.4f\"\"\" % (aboffset_zY)\n",
    "print \n"
   ]
  },
  {
   "cell_type": "code",
   "execution_count": 11,
   "metadata": {},
   "outputs": [
    {
     "name": "stdout",
     "output_type": "stream",
     "text": [
      "AB offsets based on c26202_stiswfcnic_001.fits\n",
      "==============================================\n",
      "\n",
      "WAVG offsets\n",
      "------------\n",
      "i:        0.0006\n",
      "g-r:     -0.0009\n",
      "r-i:      0.0016\n",
      "i-z:     -0.0018\n",
      "z-Y:     -0.0137\n",
      "\n",
      "MAG_AUTO offsets\n",
      "----------------\n",
      "i:        0.0006\n",
      "g-r:     -0.0020\n",
      "r-i:      0.0020\n",
      "i-z:     -0.0022\n",
      "z-Y:     -0.0197\n",
      "\n"
     ]
    }
   ],
   "source": [
    "# DES DR2 AB offsets based on c26202_stiswfcnic_001.fits (v2019_09_06 release)...\n",
    "\n",
    "print \"AB offsets based on c26202_stiswfcnic_001.fits\"\n",
    "print \"==============================================\"\n",
    "print \n",
    "\n",
    "aboffset_i = i_wavg - i_hst19\n",
    "aboffset_gr = (g_wavg-r_wavg) - (g_hst19-r_hst19)\n",
    "aboffset_ri = (r_wavg-i_wavg) - (r_hst19-i_hst19)\n",
    "aboffset_iz = (i_wavg-z_wavg) - (i_hst19-z_hst19)\n",
    "aboffset_zY = (z_wavg-Y_wavg) - (z_hst19-Y_hst19)\n",
    "\n",
    "print \"WAVG offsets\"\n",
    "print \"------------\"\n",
    "print \"\"\"i:    %10.4f\"\"\" % (aboffset_i)\n",
    "print \"\"\"g-r:  %10.4f\"\"\" % (aboffset_gr)\n",
    "print \"\"\"r-i:  %10.4f\"\"\" % (aboffset_ri)\n",
    "print \"\"\"i-z:  %10.4f\"\"\" % (aboffset_iz)\n",
    "print \"\"\"z-Y:  %10.4f\"\"\" % (aboffset_zY)\n",
    "print \n",
    "\n",
    "aboffset_i = i_wavg - i_hst19\n",
    "aboffset_gr = (g_auto-r_auto) - (g_hst19-r_hst19)\n",
    "aboffset_ri = (r_auto-i_auto) - (r_hst19-i_hst19)\n",
    "aboffset_iz = (i_auto-z_auto) - (i_hst19-z_hst19)\n",
    "aboffset_zY = (z_auto-Y_auto) - (z_hst19-Y_hst19)\n",
    "\n",
    "print \"MAG_AUTO offsets\"\n",
    "print \"----------------\"\n",
    "print \"\"\"i:    %10.4f\"\"\" % (aboffset_i)\n",
    "print \"\"\"g-r:  %10.4f\"\"\" % (aboffset_gr)\n",
    "print \"\"\"r-i:  %10.4f\"\"\" % (aboffset_ri)\n",
    "print \"\"\"i-z:  %10.4f\"\"\" % (aboffset_iz)\n",
    "print \"\"\"z-Y:  %10.4f\"\"\" % (aboffset_zY)\n",
    "print \n"
   ]
  },
  {
   "cell_type": "code",
   "execution_count": 12,
   "metadata": {},
   "outputs": [
    {
     "name": "stdout",
     "output_type": "stream",
     "text": [
      "AB offsets based on c26202_stiswfcnic_002.fits\n",
      "==============================================\n",
      "\n",
      "WAVG offsets\n",
      "------------\n",
      "i:        0.0066\n",
      "g-r:      0.0010\n",
      "r-i:      0.0042\n",
      "i-z:      0.0025\n",
      "z-Y:     -0.0100\n",
      "\n",
      "MAG_AUTO offsets\n",
      "----------------\n",
      "i:        0.0066\n",
      "g-r:     -0.0001\n",
      "r-i:      0.0046\n",
      "i-z:      0.0021\n",
      "z-Y:     -0.0160\n",
      "\n"
     ]
    }
   ],
   "source": [
    "# DES DR2 AB offsets based on c26202_stiswfcnic_002.fits (v2020_04_27 release)...\n",
    "\n",
    "print \"AB offsets based on c26202_stiswfcnic_002.fits\"\n",
    "print \"==============================================\"\n",
    "print \n",
    "\n",
    "aboffset_i = i_wavg - i_hst20\n",
    "aboffset_gr = (g_wavg-r_wavg) - (g_hst20-r_hst20)\n",
    "aboffset_ri = (r_wavg-i_wavg) - (r_hst20-i_hst20)\n",
    "aboffset_iz = (i_wavg-z_wavg) - (i_hst20-z_hst20)\n",
    "aboffset_zY = (z_wavg-Y_wavg) - (z_hst20-Y_hst20)\n",
    "\n",
    "print \"WAVG offsets\"\n",
    "print \"------------\"\n",
    "print \"\"\"i:    %10.4f\"\"\" % (aboffset_i)\n",
    "print \"\"\"g-r:  %10.4f\"\"\" % (aboffset_gr)\n",
    "print \"\"\"r-i:  %10.4f\"\"\" % (aboffset_ri)\n",
    "print \"\"\"i-z:  %10.4f\"\"\" % (aboffset_iz)\n",
    "print \"\"\"z-Y:  %10.4f\"\"\" % (aboffset_zY)\n",
    "print \n",
    "\n",
    "aboffset_i = i_wavg - i_hst20\n",
    "aboffset_gr = (g_auto-r_auto) - (g_hst20-r_hst20)\n",
    "aboffset_ri = (r_auto-i_auto) - (r_hst20-i_hst20)\n",
    "aboffset_iz = (i_auto-z_auto) - (i_hst20-z_hst20)\n",
    "aboffset_zY = (z_auto-Y_auto) - (z_hst20-Y_hst20)\n",
    "\n",
    "print \"MAG_AUTO offsets\"\n",
    "print \"----------------\"\n",
    "print \"\"\"i:    %10.4f\"\"\" % (aboffset_i)\n",
    "print \"\"\"g-r:  %10.4f\"\"\" % (aboffset_gr)\n",
    "print \"\"\"r-i:  %10.4f\"\"\" % (aboffset_ri)\n",
    "print \"\"\"i-z:  %10.4f\"\"\" % (aboffset_iz)\n",
    "print \"\"\"z-Y:  %10.4f\"\"\" % (aboffset_zY)\n",
    "print \n"
   ]
  },
  {
   "cell_type": "code",
   "execution_count": 13,
   "metadata": {},
   "outputs": [
    {
     "name": "stdout",
     "output_type": "stream",
     "text": [
      "Delta mags/colors between c26202_stisnic_007.fits and c26202_stiswfcnic_002.fits\n",
      "================================================================================\n",
      "\n",
      "Delta mag/color\n",
      "---------------\n",
      "i:        0.0056\n",
      "g-r:      0.0024\n",
      "r-i:      0.0030\n",
      "i-z:     -0.0033\n",
      "z-Y:     -0.0091\n",
      "\n"
     ]
    }
   ],
   "source": [
    "# Difference in DES Synthetic magnitudes between c26202_stisnic_007.fits \n",
    "#  and c26202_stiswfcnic_002.fits...\n",
    "\n",
    "print \"Delta mags/colors between c26202_stisnic_007.fits and c26202_stiswfcnic_002.fits\"\n",
    "print \"================================================================================\"\n",
    "print \n",
    "\n",
    "delmag_i = i_ww - i_hst20\n",
    "delmag_gr = (g_ww-r_ww) - (g_hst20-r_hst20)\n",
    "delmag_ri = (r_ww-i_ww) - (r_hst20-i_hst20)\n",
    "delmag_iz = (i_ww-z_ww) - (i_hst20-z_hst20)\n",
    "delmag_zY = (z_ww-Y_ww) - (z_hst20-Y_hst20)\n",
    "\n",
    "print \"Delta mag/color\"\n",
    "print \"---------------\"\n",
    "print \"\"\"i:    %10.4f\"\"\" % (delmag_i)\n",
    "print \"\"\"g-r:  %10.4f\"\"\" % (delmag_gr)\n",
    "print \"\"\"r-i:  %10.4f\"\"\" % (delmag_ri)\n",
    "print \"\"\"i-z:  %10.4f\"\"\" % (delmag_iz)\n",
    "print \"\"\"z-Y:  %10.4f\"\"\" % (delmag_zY)\n",
    "print \n",
    "\n"
   ]
  },
  {
   "cell_type": "code",
   "execution_count": null,
   "metadata": {
    "collapsed": true
   },
   "outputs": [],
   "source": []
  },
  {
   "cell_type": "code",
   "execution_count": null,
   "metadata": {
    "collapsed": true
   },
   "outputs": [],
   "source": []
  },
  {
   "cell_type": "code",
   "execution_count": null,
   "metadata": {
    "collapsed": true
   },
   "outputs": [],
   "source": []
  },
  {
   "cell_type": "code",
   "execution_count": null,
   "metadata": {
    "collapsed": true
   },
   "outputs": [],
   "source": []
  },
  {
   "cell_type": "code",
   "execution_count": 14,
   "metadata": {},
   "outputs": [
    {
     "name": "stdout",
     "output_type": "stream",
     "text": [
      "Diff in AB offsets: (DAWDs - c26202_stiswfcnic_002.fits)\n",
      "========================================================\n",
      "\n",
      "WAVG offsets\n",
      "------------\n",
      "i:        0.0000\n",
      "g-r:      0.0099\n",
      "r-i:      0.0049\n",
      "i-z:      0.0176\n",
      "z-Y:     -0.0161\n",
      "\n"
     ]
    }
   ],
   "source": [
    "# Differnces in DES DR2 AB offsets based on c26202_stiswfcnic_002.fits (v2020_04_27 release) \n",
    "#  and from the DA WD Golden Sample...\n",
    "\n",
    "print \"Diff in AB offsets: (DAWDs - c26202_stiswfcnic_002.fits)\"\n",
    "print \"========================================================\"\n",
    "print \n",
    "\n",
    "\n",
    "c26202_i = i_wavg - i_hst20\n",
    "c26202_gr = (g_wavg-r_wavg) - (g_hst20-r_hst20)\n",
    "c26202_ri = (r_wavg-i_wavg) - (r_hst20-i_hst20)\n",
    "c26202_iz = (i_wavg-z_wavg) - (i_hst20-z_hst20)\n",
    "c26202_zY = (z_wavg-Y_wavg) - (z_hst20-Y_hst20)\n",
    "\n",
    "dawd_i = c26202_i # by definition\n",
    "dawd_gr = +0.0109\n",
    "dawd_ri = +0.0091\n",
    "dawd_iz = +0.0201\n",
    "dawd_zY = -0.0261\n",
    "\n",
    "print \"WAVG offsets\"\n",
    "print \"------------\"\n",
    "print \"\"\"i:    %10.4f\"\"\" % (dawd_i-c26202_i)\n",
    "print \"\"\"g-r:  %10.4f\"\"\" % (dawd_gr-c26202_gr)\n",
    "print \"\"\"r-i:  %10.4f\"\"\" % (dawd_ri-c26202_ri)\n",
    "print \"\"\"i-z:  %10.4f\"\"\" % (dawd_iz-c26202_iz)\n",
    "print \"\"\"z-Y:  %10.4f\"\"\" % (dawd_zY-c26202_zY)\n",
    "print \n"
   ]
  },
  {
   "cell_type": "code",
   "execution_count": null,
   "metadata": {
    "collapsed": true
   },
   "outputs": [],
   "source": []
  },
  {
   "cell_type": "code",
   "execution_count": null,
   "metadata": {
    "collapsed": true
   },
   "outputs": [],
   "source": []
  },
  {
   "cell_type": "code",
   "execution_count": null,
   "metadata": {
    "collapsed": true
   },
   "outputs": [],
   "source": []
  },
  {
   "cell_type": "code",
   "execution_count": null,
   "metadata": {
    "collapsed": true
   },
   "outputs": [],
   "source": []
  },
  {
   "cell_type": "code",
   "execution_count": null,
   "metadata": {
    "collapsed": true
   },
   "outputs": [],
   "source": []
  },
  {
   "cell_type": "code",
   "execution_count": 15,
   "metadata": {},
   "outputs": [
    {
     "name": "stdout",
     "output_type": "stream",
     "text": [
      "mag/color differences\n",
      "---------------------\n",
      "i:       16.2571     16.2515      0.0056\n",
      "g-r:      0.3545      0.3521      0.0024\n",
      "r-i:      0.0834      0.0804      0.0030\n",
      "i-z:      0.0122      0.0155     -0.0033\n",
      "z-Y:     -0.0224     -0.0133     -0.0091\n"
     ]
    }
   ],
   "source": [
    "# Differences in C26202 mags/colors...\n",
    "#  stisnic.007   stiswfcnic.002   \\delta\\_mag\n",
    "#g  16.6950      16.6840          -0.0110\n",
    "#r  16.3405      16.3319          -0.0086\n",
    "#i  16.2571      16.2515          -0.0056\n",
    "#z  16.2449      16.2360          -0.0089\n",
    "#Y  16.2673      16.2493          -0.0180\n",
    "\n",
    "g7,g2 = 16.6950,16.6840\n",
    "r7,r2 = 16.3405,16.3319\n",
    "i7,i2 = 16.2571,16.2515\n",
    "z7,z2 = 16.2449,16.2360\n",
    "Y7,Y2 = 16.2673,16.2493\n",
    "\n",
    "\n",
    "\n",
    "print \"mag/color differences\"\n",
    "print \"---------------------\"\n",
    "print \"\"\"i:    %10.4f  %10.4f  %10.4f\"\"\" % (i7, i2, (i7-i2))\n",
    "print \"\"\"g-r:  %10.4f  %10.4f  %10.4f\"\"\" % ((g7-r7), (g2-r2), (g7-r7)-(g2-r2) )\n",
    "print \"\"\"r-i:  %10.4f  %10.4f  %10.4f\"\"\" % ((r7-i7), (r2-i2), (r7-i7)-(r2-i2) )\n",
    "print \"\"\"i-z:  %10.4f  %10.4f  %10.4f\"\"\" % ((i7-z7), (i2-z2), (i7-z7)-(i2-z2) )\n",
    "print \"\"\"z-Y:  %10.4f  %10.4f  %10.4f\"\"\" % ((z7-Y7), (z2-Y2), (z7-Y7)-(z2-Y2) )\n"
   ]
  },
  {
   "cell_type": "code",
   "execution_count": null,
   "metadata": {
    "collapsed": true
   },
   "outputs": [],
   "source": []
  },
  {
   "cell_type": "code",
   "execution_count": null,
   "metadata": {
    "collapsed": true
   },
   "outputs": [],
   "source": []
  }
 ],
 "metadata": {
  "kernelspec": {
   "display_name": "Python 2",
   "language": "python",
   "name": "python2"
  },
  "language_info": {
   "codemirror_mode": {
    "name": "ipython",
    "version": 2
   },
   "file_extension": ".py",
   "mimetype": "text/x-python",
   "name": "python",
   "nbconvert_exporter": "python",
   "pygments_lexer": "ipython2",
   "version": "2.7.13"
  }
 },
 "nbformat": 4,
 "nbformat_minor": 2
}
